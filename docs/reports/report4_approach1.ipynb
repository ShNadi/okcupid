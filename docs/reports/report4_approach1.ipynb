{
 "cells": [
  {
   "cell_type": "markdown",
   "metadata": {},
   "source": [
    "### OkCupid DataSet\n",
    "### Meeting 5, 19- 02- 2020\n"
   ]
  },
  {
   "cell_type": "markdown",
   "metadata": {},
   "source": [
    "### Recap last meeting's decisions:\n",
    "<ol>\n",
    "  <p>Meeting 4, 28- 01- 2020</p>\n",
    "    <li> Approach 1: </li>\n",
    "    <ul>\n",
    "    <li>Merge classs 1, 3 and 5</li>\n",
    "    <li>Under sample class 6 </li>\n",
    "    <li> Merge classes 6, 7, 8</li>\n",
    "     </ul>    \n",
    "    <li> Approach 2:</li>\n",
    "    <ul>\n",
    "    <li>Merge classs 1, 3 and 5 as class 1</li>    \n",
    "    <li> Merge classes 6, 7, 8 as class 8</li>\n",
    "    <li>Under sample class 8 </li>\n",
    "    </ul>    \n",
    "    <li> collect metadata: </li>\n",
    "     <ul>\n",
    "     <li> Number of misspelled </li>\n",
    "     <li> Number of unique words </li>\n",
    "     <li> Avg no wordlength </li>\n",
    "     </ul>   \n",
    "    \n",
    "    \n",
    "\n",
    "</ol>"
   ]
  },
  {
   "cell_type": "code",
   "execution_count": 1,
   "metadata": {},
   "outputs": [],
   "source": [
    "import pandas as pd\n",
    "import matplotlib.pyplot as plt\n",
    "from sklearn.feature_extraction.text import CountVectorizer\n",
    "from sklearn.model_selection import train_test_split\n",
    "from sklearn.naive_bayes import MultinomialNB\n",
    "from sklearn.metrics import accuracy_score\n",
    "from sklearn.multiclass import OneVsRestClassifier\n",
    "from sklearn.metrics import confusion_matrix\n",
    "from sklearn.feature_extraction.text import TfidfVectorizer\n",
    "import seaborn as sns\n",
    "from sklearn.metrics import classification_report"
   ]
  },
  {
   "cell_type": "code",
   "execution_count": 2,
   "metadata": {},
   "outputs": [],
   "source": [
    "from sklearn.metrics import confusion_matrix\n",
    "import numpy as np\n",
    "import itertools\n",
    "import matplotlib.pyplot as plt\n",
    "import matplotlib.cm as cm\n",
    "\n",
    "\n",
    "\n",
    "def plot_confusion_matrix(cm, classes, normalize=False, title='Confusion matrix', cmap=plt.cm.Blues):\n",
    "    \"\"\"\n",
    "    This function prints and plots the confusion matrix.\n",
    "    Normalization can be applied by setting `normalize=True`.\n",
    "    \"\"\"\n",
    "    if normalize:\n",
    "        cm = cm.astype('float') / cm.sum(axis=1)[:, np.newaxis]\n",
    "        print(\"Normalized confusion matrix\")\n",
    "    else:    \n",
    "        print('Confusion matrix, without normalization')\n",
    "         \n",
    "    print(cm)\n",
    "\n",
    "    plt.imshow(cm, interpolation='nearest', cmap=cmap)\n",
    "    plt.title(title)\n",
    "    plt.colorbar()\n",
    "    tick_marks = np.arange(len(classes))\n",
    "    plt.xticks(tick_marks, classes, rotation=45)\n",
    "    plt.yticks(tick_marks, classes)\n",
    "    \n",
    "    fmt = '.2f' if normalize else 'd'\n",
    "    thresh = cm.max() / 2.\n",
    "    for i, j in itertools.product(range(cm.shape[0])\n",
    "                                  , range(cm.shape[1])):\n",
    "            plt.text(j, i, format(cm[i, j], fmt),\n",
    "                 horizontalalignment=\"center\",\n",
    "                 color=\"white\" if cm[i, j] > thresh else \"black\")\n",
    "    plt.tight_layout()\n",
    "    plt.ylabel('True label')\n",
    "    plt.xlabel('Predicted label')\n",
    "    "
   ]
  },
  {
   "cell_type": "code",
   "execution_count": 3,
   "metadata": {},
   "outputs": [],
   "source": [
    "# Read dataset to dataframe\n",
    "df = pd.read_csv('../../data/processed/preprocessed_cupid.csv', usecols=['age', 'sex','#anwps', 'clean_text', 'isced', 'isced2'])\n",
    "df = df.dropna(subset=['clean_text', 'isced'])\n"
   ]
  },
  {
   "cell_type": "markdown",
   "metadata": {},
   "source": [
    "## Approach1: \n",
    "    - Merge class 1, 3, 5 as class 1\n",
    "    - Merge class 6, 7, 8 as class 8\n",
    "    - undersample class 8"
   ]
  },
  {
   "cell_type": "code",
   "execution_count": 4,
   "metadata": {},
   "outputs": [
    {
     "name": "stdout",
     "output_type": "stream",
     "text": [
      "unique class values in the original dataset: [3. 7. 6. 8. 5. 1.]\n",
      "classes count table:  col_0  count\n",
      "isced       \n",
      "1.0      177\n",
      "3.0     9353\n",
      "5.0     1450\n",
      "6.0    25849\n",
      "7.0    10314\n",
      "8.0     2781\n"
     ]
    }
   ],
   "source": [
    "df1 = df\n",
    "print(\"unique class values in the original dataset:\", df1['isced'].unique())\n",
    "print(\"classes count table: \", pd.crosstab(index=df1['isced'], columns='count'))\n"
   ]
  },
  {
   "cell_type": "markdown",
   "metadata": {},
   "source": [
    "1,3->0\n",
    "7,8 ->1\n",
    "............\n",
    "1,3->0\n",
    "5,6->1\n",
    "7,8->2"
   ]
  },
  {
   "cell_type": "code",
   "execution_count": 5,
   "metadata": {},
   "outputs": [],
   "source": [
    "# Merge class 1.0, 3.0 and 5.0\n",
    "df1['isced'].mask(df1['isced'].isin([3.0, 5.0]) , 1.0, inplace=True)\n",
    "# Merge class 6.0, 7.0 and 8.0\n",
    "df1['isced'].mask(df1['isced'].isin([6.0, 7.0]) , 8.0, inplace=True)"
   ]
  },
  {
   "cell_type": "code",
   "execution_count": 6,
   "metadata": {},
   "outputs": [
    {
     "name": "stdout",
     "output_type": "stream",
     "text": [
      "unique class values after merging: [1. 8.]\n",
      "count table after merging: col_0  count\n",
      "isced       \n",
      "1.0    10980\n",
      "8.0    38944\n"
     ]
    }
   ],
   "source": [
    "print('unique class values after merging:', df1['isced'].unique())\n",
    "print(\"count table after merging:\", pd.crosstab(index=df1['isced'], columns='count'))"
   ]
  },
  {
   "cell_type": "code",
   "execution_count": 7,
   "metadata": {},
   "outputs": [
    {
     "data": {
      "image/png": "[encoded data removed]",
      "text/plain": [
       "<Figure size 864x288 with 1 Axes>"
      ]
     },
     "metadata": {
      "needs_background": "light"
     },
     "output_type": "display_data"
    }
   ],
   "source": [
    "# classes distribution\n",
    "cnt_isced = df1['isced'].value_counts()\n",
    "plt.figure(figsize=(12,4))\n",
    "sns.barplot(cnt_isced.index, cnt_isced.values, alpha=0.8)\n",
    "plt.ylabel('Number of Occurrences', fontsize=12)\n",
    "plt.xlabel('isced', fontsize=12)\n",
    "plt.xticks(rotation=90)\n",
    "plt.show();"
   ]
  },
  {
   "cell_type": "code",
   "execution_count": 8,
   "metadata": {},
   "outputs": [],
   "source": [
    "df1 = df1.dropna(subset=['clean_text', 'isced'])\n",
    "corpus = df1['clean_text']\n",
    "target = df1[\"isced\"]\n",
    "\n",
    "# vectorization\n",
    "X_train, X_val, y_train, y_val = train_test_split(corpus, target, train_size=0.75,\n",
    "                                                          test_size=0.25, random_state = 0)\n",
    "vectorizer = CountVectorizer(binary=False, ngram_range=(1, 2), lowercase=True)\n",
    "vectors_train = vectorizer.fit_transform(X_train)\n",
    "vectors_val = vectorizer.transform(X_val)\n",
    "X_train = vectors_train\n",
    "X_val = vectors_val"
   ]
  },
  {
   "cell_type": "code",
   "execution_count": 147,
   "metadata": {},
   "outputs": [
    {
     "name": "stdout",
     "output_type": "stream",
     "text": [
      "[(1.0, 2715), (8.0, 9766)]\n",
      "[(1.0, 8265), (8.0, 29178)]\n"
     ]
    }
   ],
   "source": [
    "# count train items\n",
    "from collections import Counter\n",
    "print(sorted(Counter(y_val).items()))\n",
    "print(sorted(Counter(y_train).items()))"
   ]
  },
  {
   "cell_type": "code",
   "execution_count": 92,
   "metadata": {},
   "outputs": [
    {
     "name": "stdout",
     "output_type": "stream",
     "text": [
      "[(1.0, 8265), (8.0, 8265)]\n"
     ]
    },
    {
     "data": {
      "image/png": "[encoded data removed]",
      "text/plain": [
       "<Figure size 432x288 with 1 Axes>"
      ]
     },
     "metadata": {
      "needs_background": "light"
     },
     "output_type": "display_data"
    }
   ],
   "source": [
    "# undersampling\n",
    "from imblearn.under_sampling import RandomUnderSampler\n",
    "from imblearn.over_sampling import RandomOverSampler\n",
    "\n",
    "\n",
    "rus = RandomUnderSampler(random_state=0)\n",
    "X_resampled, y_resampled = rus.fit_resample(X_train, y_train)\n",
    "y_resampled.value_counts().plot(kind='bar', title= 'Count target')\n",
    "\n",
    "\n",
    "print(sorted(Counter(y_resampled).items()))\n"
   ]
  },
  {
   "cell_type": "code",
   "execution_count": 148,
   "metadata": {},
   "outputs": [
    {
     "name": "stdout",
     "output_type": "stream",
     "text": [
      "train score: 0.9667761664396549\n",
      "Final Accuracy for NB: 0.7836711801938947\n",
      "Confusion matrix, without normalization\n",
      "[[  24 2691]\n",
      " [   9 9757]]\n",
      "              precision    recall  f1-score   support\n",
      "\n",
      "         1.0       0.73      0.01      0.02      2715\n",
      "         8.0       0.78      1.00      0.88      9766\n",
      "\n",
      "    accuracy                           0.78     12481\n",
      "   macro avg       0.76      0.50      0.45     12481\n",
      "weighted avg       0.77      0.78      0.69     12481\n",
      "\n"
     ]
    },
    {
     "data": {
      "image/png": "[encoded data removed]",
      "text/plain": [
       "<Figure size 432x288 with 2 Axes>"
      ]
     },
     "metadata": {
      "needs_background": "light"
     },
     "output_type": "display_data"
    }
   ],
   "source": [
    "from sklearn.feature_extraction.text import TfidfVectorizer\n",
    "from sklearn.naive_bayes import MultinomialNB\n",
    "from sklearn.pipeline import make_pipeline\n",
    "\n",
    "model = make_pipeline(MultinomialNB())\n",
    "# model.fit(X_resampled, y_resampled)\n",
    "model.fit(X_train, y_train)\n",
    "# train_score = model.score(X_resampled, y_resampled)\n",
    "train_score = model.score(X_train, y_train)\n",
    "\n",
    "print('train score:', train_score)\n",
    "gnb_predictions = model.predict(X_val)\n",
    "print(\"Final Accuracy for NB: %s\"% accuracy_score(y_val, gnb_predictions))\n",
    "cm = confusion_matrix(y_val,gnb_predictions)\n",
    "plt.figure()\n",
    "plot_confusion_matrix(cm, classes=[0,1], normalize=False,\n",
    "                      title='Confusion Matrix')\n",
    "print(classification_report(y_val, gnb_predictions))"
   ]
  },
  {
   "cell_type": "code",
   "execution_count": 149,
   "metadata": {},
   "outputs": [
    {
     "name": "stdout",
     "output_type": "stream",
     "text": [
      "train score: 0.9667761664396549\n",
      "Final Accuracy for LogisticRegression: 0.8309430334107843\n",
      "Confusion matrix, without normalization\n",
      "[[1518 1197]\n",
      " [ 913 8853]]\n",
      "              precision    recall  f1-score   support\n",
      "\n",
      "         1.0       0.62      0.56      0.59      2715\n",
      "         8.0       0.88      0.91      0.89      9766\n",
      "\n",
      "    accuracy                           0.83     12481\n",
      "   macro avg       0.75      0.73      0.74     12481\n",
      "weighted avg       0.83      0.83      0.83     12481\n",
      "\n"
     ]
    },
    {
     "data": {
      "image/png": "[encoded data removed]",
      "text/plain": [
       "<Figure size 432x288 with 2 Axes>"
      ]
     },
     "metadata": {
      "needs_background": "light"
     },
     "output_type": "display_data"
    }
   ],
   "source": [
    "from sklearn.linear_model import LogisticRegression\n",
    "\n",
    "# clf = LogisticRegression(random_state=0,max_iter=1000, solver='lbfgs', penalty='l2').fit(X_resampled, y_resampled)\n",
    "clf = LogisticRegression(random_state=0,max_iter=1000, solver='lbfgs', penalty='l2', class_weight='balanced').fit(X_train, y_train)\n",
    "# train_score = model.score(X_resampled, y_resampled)\n",
    "train_score = clf.score(X_train, y_train)\n",
    "\n",
    "print('train score:', train_score)\n",
    "\n",
    "logistic_predictions = clf.predict(X_val)\n",
    "print(\"Final Accuracy for LogisticRegression: %s\"% accuracy_score(y_val, logistic_predictions))\n",
    "\n",
    "cm = confusion_matrix(y_val,logistic_predictions)\n",
    "plt.figure()\n",
    "plot_confusion_matrix(cm, classes=[0,1], normalize=False,\n",
    "                      title='Confusion Matrix')\n",
    "print(classification_report(y_val, logistic_predictions))"
   ]
  },
  {
   "cell_type": "code",
   "execution_count": 151,
   "metadata": {},
   "outputs": [
    {
     "name": "stdout",
     "output_type": "stream",
     "text": [
      "[0.83274912 0.83575363 0.83685528 0.82513771 0.83343349]\n",
      "0.8327858474410335\n",
      "[[ 6130  4850]\n",
      " [ 3498 35446]]\n"
     ]
    }
   ],
   "source": [
    "# Necessary imports: Try cross validation\n",
    "from sklearn.model_selection import cross_val_score, cross_val_predict\n",
    "from sklearn import metrics\n",
    "from sklearn.model_selection import cross_val_score\n",
    "from sklearn.model_selection import cross_val_predict\n",
    "from sklearn.metrics import confusion_matrix\n",
    "from sklearn.model_selection import cross_val_predict\n",
    "from sklearn.metrics import confusion_matrix\n",
    "\n",
    "df1 = df1.dropna(subset=['clean_text', 'isced'])\n",
    "corpus = df1['clean_text']\n",
    "target = df1[\"isced\"]\n",
    "\n",
    "\n",
    "vectorizer = CountVectorizer(binary=False, ngram_range=(1, 2), lowercase=True)\n",
    "vectors_corpus = vectorizer.fit_transform(corpus)\n",
    "\n",
    "\n",
    "clf = LogisticRegression(random_state=0,max_iter=1000, solver='lbfgs', penalty='l2', class_weight='balanced').fit(X_train, y_train)\n",
    "scores = cross_val_score(clf, vectors_corpus, target, cv=5)\n",
    "print(scores)\n",
    "print(scores.mean())\n",
    "\n",
    "\n",
    "y_pred = cross_val_predict(clf, vectors_corpus, target, cv=5)\n",
    "conf_mat = confusion_matrix(target, y_pred)\n",
    "print(conf_mat)"
   ]
  },
  {
   "cell_type": "code",
   "execution_count": 128,
   "metadata": {},
   "outputs": [],
   "source": []
  },
  {
   "cell_type": "code",
   "execution_count": 129,
   "metadata": {},
   "outputs": [
    {
     "data": {
      "text/plain": [
       "array([0.83274912, 0.83575363, 0.83685528, 0.82513771, 0.83343349])"
      ]
     },
     "execution_count": 129,
     "metadata": {},
     "output_type": "execute_result"
    }
   ],
   "source": []
  },
  {
   "cell_type": "code",
   "execution_count": 131,
   "metadata": {},
   "outputs": [
    {
     "name": "stdout",
     "output_type": "stream",
     "text": [
      "0.8327858474410335\n"
     ]
    }
   ],
   "source": []
  },
  {
   "cell_type": "code",
   "execution_count": 137,
   "metadata": {},
   "outputs": [],
   "source": []
  },
  {
   "cell_type": "code",
   "execution_count": 138,
   "metadata": {},
   "outputs": [
    {
     "data": {
      "text/plain": [
       "array([[ 6130,  4850],\n",
       "       [ 3498, 35446]], dtype=int64)"
      ]
     },
     "execution_count": 138,
     "metadata": {},
     "output_type": "execute_result"
    }
   ],
   "source": []
  },
  {
   "cell_type": "code",
   "execution_count": 152,
   "metadata": {},
   "outputs": [
    {
     "name": "stdout",
     "output_type": "stream",
     "text": [
      "              precision    recall  f1-score   support\n",
      "\n",
      "         1.0       0.64      0.56      0.59     10980\n",
      "         8.0       0.88      0.91      0.89     38944\n",
      "\n",
      "    accuracy                           0.83     49924\n",
      "   macro avg       0.76      0.73      0.74     49924\n",
      "weighted avg       0.83      0.83      0.83     49924\n",
      "\n"
     ]
    }
   ],
   "source": [
    "print(classification_report(target, y_pred))"
   ]
  },
  {
   "cell_type": "code",
   "execution_count": null,
   "metadata": {},
   "outputs": [],
   "source": []
  }
 ],
 "metadata": {
  "hide_input": false,
  "kernelspec": {
   "display_name": "Python 3",
   "language": "python",
   "name": "python3"
  },
  "language_info": {
   "codemirror_mode": {
    "name": "ipython",
    "version": 3
   },
   "file_extension": ".py",
   "mimetype": "text/x-python",
   "name": "python",
   "nbconvert_exporter": "python",
   "pygments_lexer": "ipython3",
   "version": "3.7.3"
  }
 },
 "nbformat": 4,
 "nbformat_minor": 2
}
