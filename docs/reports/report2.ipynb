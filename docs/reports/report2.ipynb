{
 "cells": [
  {
   "cell_type": "markdown",
   "metadata": {
    "slideshow": {
     "slide_type": "slide"
    }
   },
   "source": [
    "## OkCupid DataSet\n",
    "\n",
    "### Meeting #3, 10- 12- 2019\n"
   ]
  },
  {
   "cell_type": "markdown",
   "metadata": {
    "slideshow": {
     "slide_type": "slide"
    }
   },
   "source": [
    "### Recap meeting_1 decisions:\n",
    "\n",
    "<ol>\n",
    "  <p>Meeting 1, 16-10-2019</p>\n",
    "    <li>Merge all the essays as a unique text excluding essay4, 5, 6. </li>\n",
    "  <li>Plot distribution of avarage number of words per sentence.</li>\n",
    "  <li>Dont apply lowercase() and expand_contractions() instead count the number of them.</li>\n",
    "  \n",
    "\n",
    "</ol>\n",
    "\n",
    "\n",
    "### Recap meeting_2 decisions:\n",
    "\n",
    "<ol>\n",
    "  <p>Meeting 2, 12-11-2019</p>\n",
    "  <li>Re-code education feature</li>\n",
    "  <li>Treating with outliers? keep or remove? min and max threshold?</li>\n",
    "  <li>Incorrect or irrelevant information such as age 109 or sentences with length 1</li>\n",
    "  <li>Check list of stopwords</li>\n",
    "\n",
    "</ol>\n",
    "\n",
    "\n",
    "\n"
   ]
  },
  {
   "cell_type": "markdown",
   "metadata": {
    "slideshow": {
     "slide_type": "slide"
    }
   },
   "source": [
    "### To discuss:\n",
    "\n",
    "<ol>\n",
    "  <p></p>  \n",
    "  <li>Remove graduated and droped out of space camp from dataset?</li>\n",
    "  <li>Correct spelling?\n",
    "  <li>Feature extraction/ vectorization</li>\n",
    "  <li>Feature reduction??? stemming? lemmatization</li> \n",
    "  <li> Imbalance dataset </li>\n",
    "\n",
    "</ol>"
   ]
  },
  {
   "cell_type": "code",
   "execution_count": 1,
   "metadata": {
    "slideshow": {
     "slide_type": "slide"
    }
   },
   "outputs": [],
   "source": [
    "import pandas as pd\n",
    "from sklearn.feature_extraction.text import CountVectorizer\n",
    "from sklearn.model_selection import train_test_split\n",
    "from sklearn.naive_bayes import MultinomialNB\n",
    "from sklearn.metrics import accuracy_score\n",
    "from sklearn.svm import LinearSVC\n",
    "from sklearn.multiclass import OneVsRestClassifier\n",
    "from sklearn.linear_model import LogisticRegression\n",
    "from sklearn.tree import DecisionTreeClassifier\n",
    "import seaborn as sn\n"
   ]
  },
  {
   "cell_type": "code",
   "execution_count": 2,
   "metadata": {},
   "outputs": [],
   "source": [
    "import matplotlib.pyplot as plt\n",
    "\n",
    "def plot_conf(conf_matrix):\n",
    "    print('Confusion matrix:\\n', conf_matrix)\n",
    "    labels = ['1', '3', '5', '6', '7', '8']\n",
    "    fig = plt.figure()\n",
    "    ax = fig.add_subplot(111)\n",
    "    cax = ax.matshow(conf_matrix, cmap=plt.cm.Blues)\n",
    "    fig.colorbar(cax)\n",
    "    ax.set_xticklabels([''] + labels)\n",
    "    ax.set_yticklabels([''] + labels)\n",
    "    plt.xlabel('Predicted class')\n",
    "    plt.ylabel('Actual class')\n",
    "    plt.show()"
   ]
  },
  {
   "cell_type": "markdown",
   "metadata": {
    "slideshow": {
     "slide_type": "slide"
    }
   },
   "source": [
    "### Load dataset "
   ]
  },
  {
   "cell_type": "code",
   "execution_count": 3,
   "metadata": {
    "slideshow": {
     "slide_type": "-"
    }
   },
   "outputs": [
    {
     "name": "stdout",
     "output_type": "stream",
     "text": [
      "(51595, 6)\n",
      "(49924, 6)\n"
     ]
    },
    {
     "data": {
      "text/html": [
       "<div>\n",
       "<style scoped>\n",
       "    .dataframe tbody tr th:only-of-type {\n",
       "        vertical-align: middle;\n",
       "    }\n",
       "\n",
       "    .dataframe tbody tr th {\n",
       "        vertical-align: top;\n",
       "    }\n",
       "\n",
       "    .dataframe thead th {\n",
       "        text-align: right;\n",
       "    }\n",
       "</style>\n",
       "<table border=\"1\" class=\"dataframe\">\n",
       "  <thead>\n",
       "    <tr style=\"text-align: right;\">\n",
       "      <th></th>\n",
       "      <th>age</th>\n",
       "      <th>sex</th>\n",
       "      <th>isced</th>\n",
       "      <th>isced2</th>\n",
       "      <th>#anwps</th>\n",
       "      <th>clean_text</th>\n",
       "    </tr>\n",
       "  </thead>\n",
       "  <tbody>\n",
       "    <tr>\n",
       "      <th>0</th>\n",
       "      <td>22</td>\n",
       "      <td>m</td>\n",
       "      <td>3.0</td>\n",
       "      <td>Upper secondary education</td>\n",
       "      <td>15.000000</td>\n",
       "      <td>mei love think kind intellectualeither dumbest...</td>\n",
       "    </tr>\n",
       "    <tr>\n",
       "      <th>2</th>\n",
       "      <td>38</td>\n",
       "      <td>m</td>\n",
       "      <td>7.0</td>\n",
       "      <td>Master or equivalent</td>\n",
       "      <td>18.000000</td>\n",
       "      <td>im ashamed writing public text onlinedating si...</td>\n",
       "    </tr>\n",
       "    <tr>\n",
       "      <th>3</th>\n",
       "      <td>23</td>\n",
       "      <td>m</td>\n",
       "      <td>3.0</td>\n",
       "      <td>Upper secondary education</td>\n",
       "      <td>10.750000</td>\n",
       "      <td>work library school reading things written old...</td>\n",
       "    </tr>\n",
       "    <tr>\n",
       "      <th>4</th>\n",
       "      <td>29</td>\n",
       "      <td>m</td>\n",
       "      <td>6.0</td>\n",
       "      <td>Bachelor or equivalent</td>\n",
       "      <td>11.833333</td>\n",
       "      <td>hey hows going currently vague profile know to...</td>\n",
       "    </tr>\n",
       "    <tr>\n",
       "      <th>5</th>\n",
       "      <td>29</td>\n",
       "      <td>m</td>\n",
       "      <td>6.0</td>\n",
       "      <td>Bachelor or equivalent</td>\n",
       "      <td>11.840000</td>\n",
       "      <td>im australian living san francisco dont hold t...</td>\n",
       "    </tr>\n",
       "  </tbody>\n",
       "</table>\n",
       "</div>"
      ],
      "text/plain": [
       "   age sex  isced                     isced2     #anwps  \\\n",
       "0   22   m    3.0  Upper secondary education  15.000000   \n",
       "2   38   m    7.0       Master or equivalent  18.000000   \n",
       "3   23   m    3.0  Upper secondary education  10.750000   \n",
       "4   29   m    6.0     Bachelor or equivalent  11.833333   \n",
       "5   29   m    6.0     Bachelor or equivalent  11.840000   \n",
       "\n",
       "                                          clean_text  \n",
       "0  mei love think kind intellectualeither dumbest...  \n",
       "2  im ashamed writing public text onlinedating si...  \n",
       "3  work library school reading things written old...  \n",
       "4  hey hows going currently vague profile know to...  \n",
       "5  im australian living san francisco dont hold t...  "
      ]
     },
     "execution_count": 3,
     "metadata": {},
     "output_type": "execute_result"
    }
   ],
   "source": [
    "#  Load dataset \n",
    "df = pd.read_csv('../../data/processed/preprocessed_cupid.csv', usecols=['age', 'sex','#anwps', 'clean_text', 'isced', 'isced2'])\n",
    "print(df.shape)\n",
    "df = df = df.dropna(subset=['clean_text', 'isced'])\n",
    "print(df.shape)\n",
    "df.head()"
   ]
  },
  {
   "cell_type": "code",
   "execution_count": 4,
   "metadata": {},
   "outputs": [
    {
     "data": {
      "text/plain": [
       "6.0    25849\n",
       "7.0    10314\n",
       "3.0     9353\n",
       "8.0     2781\n",
       "5.0     1450\n",
       "1.0      177\n",
       "Name: isced, dtype: int64"
      ]
     },
     "execution_count": 4,
     "metadata": {},
     "output_type": "execute_result"
    }
   ],
   "source": [
    "df['isced'].value_counts()"
   ]
  },
  {
   "cell_type": "code",
   "execution_count": 5,
   "metadata": {},
   "outputs": [],
   "source": [
    "corpus = df['clean_text']\n",
    "target = df[\"isced\"]\n"
   ]
  },
  {
   "cell_type": "markdown",
   "metadata": {
    "slideshow": {
     "slide_type": "slide"
    }
   },
   "source": [
    "\n",
    "<p>Document-term matrix</p>\n",
    "<li> A mathematical matrix that describes the frequency of terms that occur in a collection of documents</li>\n",
    "<li>Rows correspond to documents </li>\n",
    "<li>Columns correspond to terms</li>\n",
    "\n",
    "<img src=\"rep2_image/vector_matrix.jpg\">\n"
   ]
  },
  {
   "cell_type": "code",
   "execution_count": 6,
   "metadata": {
    "slideshow": {
     "slide_type": "-"
    }
   },
   "outputs": [],
   "source": [
    "# frequency encoding scikit-learn\n",
    "vectorizer = CountVectorizer(binary=False, ngram_range=(1, 2))\n",
    "vectors = vectorizer.fit_transform(corpus)\n"
   ]
  },
  {
   "cell_type": "markdown",
   "metadata": {
    "slideshow": {
     "slide_type": "slide"
    }
   },
   "source": [
    "## Supervised classification: \n",
    "\n",
    "<ol>\n",
    "  <p></p>\n",
    "    <img src=\"rep2_image/split_dataset.JPG\">\n",
    "    \n",
    "  \n",
    "  \n",
    "\n",
    "</ol>"
   ]
  },
  {
   "cell_type": "code",
   "execution_count": 7,
   "metadata": {
    "slideshow": {
     "slide_type": "slide"
    }
   },
   "outputs": [],
   "source": [
    "X_train, X_val, y_train, y_val = train_test_split(vectors, target, train_size=0.75,\n",
    "                                                          test_size=0.25, random_state = 0)"
   ]
  },
  {
   "cell_type": "markdown",
   "metadata": {
    "slideshow": {
     "slide_type": "slide"
    }
   },
   "source": [
    "### Naive Bayes classifier\n",
    "     \n",
    "#### Naive Bayes models typically provide very strong baselines for text classification problems\n"
   ]
  },
  {
   "cell_type": "code",
   "execution_count": 8,
   "metadata": {},
   "outputs": [
    {
     "name": "stdout",
     "output_type": "stream",
     "text": [
      "Final Accuracy for NB: 0.5248778142777021\n",
      "Confusion matrix:\n",
      " [[   0    4    0   45    1    0]\n",
      " [   0  139    0 2161   19    2]\n",
      " [   0    8    0  331    4    1]\n",
      " [   0   69    0 6339   94    4]\n",
      " [   0   12    0 2531   72    2]\n",
      " [   0    4    0  601   37    1]]\n"
     ]
    },
    {
     "data": {
      "image/png": "[encoded data removed]",
      "text/plain": [
       "<Figure size 432x288 with 2 Axes>"
      ]
     },
     "metadata": {
      "needs_background": "light"
     },
     "output_type": "display_data"
    }
   ],
   "source": [
    "from sklearn.metrics import confusion_matrix\n",
    "\n",
    "naive_model = OneVsRestClassifier(MultinomialNB(fit_prior=True, class_prior=None))\n",
    "naive_model.fit(X_train, y_train)\n",
    "gnb_predictions = naive_model.predict(X_val)\n",
    "print(\"Final Accuracy for NB: %s\"% accuracy_score(y_val, gnb_predictions))\n",
    "cm = confusion_matrix(y_val, gnb_predictions) \n",
    "plot_conf(cm)"
   ]
  },
  {
   "cell_type": "code",
   "execution_count": null,
   "metadata": {
    "slideshow": {
     "slide_type": "slide"
    }
   },
   "outputs": [],
   "source": [
    "from sklearn.svm import LinearSVC\n",
    "from sklearn.multiclass import OneVsRestClassifier\n",
    "svm_model = LinearSVC(max_iter=5000, random_state=0, tol=1e-5)\n",
    "svm_model.fit(X_train, y_train)\n",
    "y_predictions = svm_model.predict(X_val) \n",
    "# plot_conf(confusion_matrix(y_val, y_predictions))\n",
    "print(\"Final Accuracy for svm: %s\"% accuracy_score(y_val, y_predictions))\n"
   ]
  },
  {
   "cell_type": "code",
   "execution_count": 10,
   "metadata": {},
   "outputs": [],
   "source": [
    "# labels = ['Primary education', 'Upper secondary education', 'Short-cycle tertiary education', 'Bachelor or equivalent',\n",
    "#             'Master or equivalent', 'Doctoral or equivalent']"
   ]
  },
  {
   "cell_type": "code",
   "execution_count": 11,
   "metadata": {},
   "outputs": [
    {
     "ename": "NameError",
     "evalue": "name 'y_predictions' is not defined",
     "output_type": "error",
     "traceback": [
      "\u001b[1;31m---------------------------------------------------------------------------\u001b[0m",
      "\u001b[1;31mNameError\u001b[0m                                 Traceback (most recent call last)",
      "\u001b[1;32m<ipython-input-11-943fe295063e>\u001b[0m in \u001b[0;36m<module>\u001b[1;34m\u001b[0m\n\u001b[1;32m----> 1\u001b[1;33m \u001b[0mcm\u001b[0m \u001b[1;33m=\u001b[0m \u001b[0mconfusion_matrix\u001b[0m\u001b[1;33m(\u001b[0m\u001b[0my_val\u001b[0m\u001b[1;33m,\u001b[0m \u001b[0my_predictions\u001b[0m\u001b[1;33m)\u001b[0m\u001b[1;33m\u001b[0m\u001b[1;33m\u001b[0m\u001b[0m\n\u001b[0m\u001b[0;32m      2\u001b[0m \u001b[0mplot_conf\u001b[0m\u001b[1;33m(\u001b[0m\u001b[0mcm\u001b[0m\u001b[1;33m)\u001b[0m\u001b[1;33m\u001b[0m\u001b[1;33m\u001b[0m\u001b[0m\n",
      "\u001b[1;31mNameError\u001b[0m: name 'y_predictions' is not defined"
     ]
    }
   ],
   "source": [
    "cm = confusion_matrix(y_val, y_predictions) \n",
    "plot_conf(cm)"
   ]
  },
  {
   "cell_type": "code",
   "execution_count": 1,
   "metadata": {},
   "outputs": [],
   "source": [
    "# from gensim.models import Word2Vec\n",
    "# wv = gensim.models.KeyedVectors.load_word2vec_format(\"GoogleNews-vectors-negative300.bin.gz\", binary=True)\n",
    "# wv.init_sims(replace=True)"
   ]
  },
  {
   "cell_type": "code",
   "execution_count": null,
   "metadata": {},
   "outputs": [],
   "source": [
    "from itertools import islice\n",
    "list(islice(wv.vocab, 13030, 13050))"
   ]
  },
  {
   "cell_type": "code",
   "execution_count": null,
   "metadata": {},
   "outputs": [],
   "source": [
    "def word_averaging(wv, words):\n",
    "    all_words, mean = set(), []\n",
    "    \n",
    "    for word in words:\n",
    "        if isinstance(word, np.ndarray):\n",
    "            mean.append(word)\n",
    "        elif word in wv.vocab:\n",
    "            mean.append(wv.syn0norm[wv.vocab[word].index])\n",
    "            all_words.add(wv.vocab[word].index)\n",
    "\n",
    "    if not mean:\n",
    "        logging.warning(\"cannot compute similarity with no input %s\", words)\n",
    "        # FIXME: remove these examples in pre-processing\n",
    "        return np.zeros(wv.vector_size,)\n",
    "\n",
    "    mean = gensim.matutils.unitvec(np.array(mean).mean(axis=0)).astype(np.float32)\n",
    "    return mean\n",
    "\n",
    "def  word_averaging_list(wv, text_list):\n",
    "    return np.vstack([word_averaging(wv, post) for post in text_list ])"
   ]
  },
  {
   "cell_type": "code",
   "execution_count": null,
   "metadata": {},
   "outputs": [],
   "source": [
    "def w2v_tokenize_text(text):\n",
    "    tokens = []\n",
    "    for sent in nltk.sent_tokenize(text, language='english'):\n",
    "        for word in nltk.word_tokenize(sent, language='english'):\n",
    "            if len(word) < 2:\n",
    "                continue\n",
    "            tokens.append(word)\n",
    "    return tokens\n",
    "    \n",
    "train, test = train_test_split(df, test_size=0.3, random_state = 42)\n",
    "\n",
    "test_tokenized = test.apply(lambda r: w2v_tokenize_text(r['post']), axis=1).values\n",
    "train_tokenized = train.apply(lambda r: w2v_tokenize_text(r['post']), axis=1).values\n",
    "\n",
    "X_train_word_average = word_averaging_list(wv,train_tokenized)\n",
    "X_test_word_average = word_averaging_list(wv,test_tokenized)"
   ]
  },
  {
   "cell_type": "code",
   "execution_count": null,
   "metadata": {},
   "outputs": [],
   "source": [
    "from sklearn.linear_model import LogisticRegression\n",
    "logreg = LogisticRegression(n_jobs=1, C=1e5)\n",
    "logreg = logreg.fit(X_train_word_average, train['tags'])\n",
    "y_pred = logreg.predict(X_test_word_average)\n",
    "print('accuracy %s' % accuracy_score(y_pred, test.tags))\n",
    "print(classification_report(test.tags, y_pred,target_names=my_tags))"
   ]
  },
  {
   "cell_type": "code",
   "execution_count": null,
   "metadata": {},
   "outputs": [],
   "source": []
  }
 ],
 "metadata": {
  "celltoolbar": "Slideshow",
  "hide_input": false,
  "kernelspec": {
   "display_name": "Python 3",
   "language": "python",
   "name": "python3"
  },
  "language_info": {
   "codemirror_mode": {
    "name": "ipython",
    "version": 3
   },
   "file_extension": ".py",
   "mimetype": "text/x-python",
   "name": "python",
   "nbconvert_exporter": "python",
   "pygments_lexer": "ipython3",
   "version": "3.7.3"
  }
 },
 "nbformat": 4,
 "nbformat_minor": 2
}
