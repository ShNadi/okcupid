{
 "cells": [
  {
   "cell_type": "markdown",
   "metadata": {
    "slideshow": {
     "slide_type": "slide"
    }
   },
   "source": [
    "## OkCupid DataSet\n",
    "\n",
    "### Meeting_3, ...\n"
   ]
  },
  {
   "cell_type": "markdown",
   "metadata": {
    "slideshow": {
     "slide_type": "slide"
    }
   },
   "source": [
    "### Recap meeting_1 decisions:\n",
    "\n",
    "<ol>\n",
    "  <p>Meeting 1, 16-10-2019</p>\n",
    "    <li>Merge all the essays as a unique text excluding essay4, 5, 6. </li>\n",
    "  <li>Plot distribution of avarage number of words per sentence.</li>\n",
    "  <li>Dont apply lowercase() and expand_contractions() instead count the number of them.</li>\n",
    "  \n",
    "\n",
    "</ol>\n",
    "\n",
    "\n",
    "### Recap meeting_2 decisions:\n",
    "\n",
    "<ol>\n",
    "  <p>Meeting 2,12-11-2019</p>\n",
    "  <li>Re-code education feature</li>\n",
    "  <li>Treating with outliers? keep or remove? min and max threshold?</li>\n",
    "  <li>Incorrect or irrelevant information such as age 109 or sentences with length 1</li>\n",
    "  <li>Check list of stopwords</li>\n",
    "\n",
    "</ol>\n",
    "\n",
    "\n",
    "### To discuss:\n",
    "\n",
    "<ol>\n",
    "  <p></p>\n",
    "  <li>Feature extraction/ vectorization</li>\n",
    "  <li>Feature reduction??? stemming?</li>\n",
    "  <li>In isced column, do you what is None value? do you want to remove it from dataset?</li>\n",
    "  \n",
    "\n",
    "</ol>\n"
   ]
  },
  {
   "cell_type": "code",
   "execution_count": 4,
   "metadata": {
    "slideshow": {
     "slide_type": "slide"
    }
   },
   "outputs": [],
   "source": [
    "import pandas as pd\n",
    "from sklearn.feature_extraction.text import CountVectorizer\n",
    "from sklearn.model_selection import train_test_split\n",
    "from sklearn.naive_bayes import MultinomialNB\n",
    "from sklearn.metrics import accuracy_score\n",
    "from sklearn.svm import LinearSVC\n",
    "from sklearn.multiclass import OneVsRestClassifier\n",
    "from sklearn.linear_model import LogisticRegression\n",
    "from sklearn.tree import DecisionTreeClassifier\n"
   ]
  },
  {
   "cell_type": "markdown",
   "metadata": {
    "slideshow": {
     "slide_type": "slide"
    }
   },
   "source": [
    "### Load dataset "
   ]
  },
  {
   "cell_type": "code",
   "execution_count": 5,
   "metadata": {
    "slideshow": {
     "slide_type": "-"
    }
   },
   "outputs": [
    {
     "name": "stdout",
     "output_type": "stream",
     "text": [
      "(51595, 5)\n",
      "(51575, 5)\n"
     ]
    }
   ],
   "source": [
    "#  Load dataset \n",
    "df = pd.read_csv('../../data/processed/preprocessed_cupid.csv', usecols=['age', 'sex','#anwps', 'clean_text', 'isced'])\n",
    "print(df.shape)\n",
    "df = df = df.dropna(subset=['clean_text'])\n",
    "print(df.shape)"
   ]
  },
  {
   "cell_type": "code",
   "execution_count": 6,
   "metadata": {},
   "outputs": [],
   "source": [
    "corpus = df['clean_text'].dropna()\n",
    "target = df[\"isced\"]"
   ]
  },
  {
   "cell_type": "markdown",
   "metadata": {
    "slideshow": {
     "slide_type": "slide"
    }
   },
   "source": [
    "\n",
    "<p>Document-term matrix</p>\n",
    "<li>Each document is represented as the multiset of the tokens that compose it </li>\n",
    "<li>The value for each word position in the vector is its count</li>\n",
    "\n",
    "<img src=\"rep2_image/vector_matrix.jpg\">\n"
   ]
  },
  {
   "cell_type": "code",
   "execution_count": 7,
   "metadata": {
    "slideshow": {
     "slide_type": "-"
    }
   },
   "outputs": [],
   "source": [
    "# frequency encoding scikit-learn\n",
    "vectorizer = CountVectorizer(binary=False, ngram_range=(1, 2))\n",
    "vectors = vectorizer.fit_transform(corpus)\n"
   ]
  },
  {
   "cell_type": "markdown",
   "metadata": {
    "slideshow": {
     "slide_type": "slide"
    }
   },
   "source": [
    "## Supervised classification: phases and datasets\n",
    "There are two phases, the training phase and the inference phase\n",
    "<ol>\n",
    "  <p></p>\n",
    "    <img src=\"rep2_image/split_dataset.JPG\">\n",
    "    \n",
    "  \n",
    "  \n",
    "\n",
    "</ol>"
   ]
  },
  {
   "cell_type": "code",
   "execution_count": 8,
   "metadata": {
    "slideshow": {
     "slide_type": "slide"
    }
   },
   "outputs": [],
   "source": [
    "X_train, X_val, y_train, y_val = train_test_split(vectors, target, train_size=0.75,\n",
    "                                                          test_size=0.25, random_state = 0)"
   ]
  },
  {
   "cell_type": "markdown",
   "metadata": {
    "slideshow": {
     "slide_type": "subslide"
    }
   },
   "source": [
    "Questions that should be answered in training phase:\n",
    "1. what are the features?\n",
    "   * By far the most common class of features are words\n",
    "   * Handeling commonly- occuring words: stopwords\n",
    "   * Normalization: Make lower case vs. leave as-is\n",
    "   * Stemming/ Lemmatization\n",
    "2. what is the classification model/ algorithm?\n",
    "   * Unordered One\n",
    "   * Unordered Two\n",
    "   * Unordered Three\n",
    "3. what are the model parameters?\n",
    "\n",
    "\n",
    "\n",
    "<p>Questions that should be answered in inference phase:</p>\n",
    "<li>what is the expected performance? waht is a good measure? </li>\n",
    "\n"
   ]
  },
  {
   "cell_type": "markdown",
   "metadata": {},
   "source": [
    "### Naive Bayes classifier\n",
    "1. Naive Bayes is a probabilistic model\n",
    "   \n",
    "2. Naive, because it assumes features are independent of each other, given the class label\n",
    "   \n",
    "3. for text classification problems, naive Bayes models typically prvide very strong baselines\n"
   ]
  },
  {
   "cell_type": "code",
   "execution_count": 46,
   "metadata": {},
   "outputs": [
    {
     "name": "stdout",
     "output_type": "stream",
     "text": [
      "Final Accuracy for NB: 0.506514657980456\n"
     ]
    }
   ],
   "source": [
    "naive_model = MultinomialNB()\n",
    "naive_model.fit(X_train, y_train)\n",
    "gnb_predictions = naive_model.predict(X_val)\n",
    "print(\"Final Accuracy for NB: %s\"% accuracy_score(y_val, gnb_predictions))"
   ]
  }
 ],
 "metadata": {
  "kernelspec": {
   "display_name": "Python 3",
   "language": "python",
   "name": "python3"
  },
  "language_info": {
   "codemirror_mode": {
    "name": "ipython",
    "version": 3
   },
   "file_extension": ".py",
   "mimetype": "text/x-python",
   "name": "python",
   "nbconvert_exporter": "python",
   "pygments_lexer": "ipython3",
   "version": "3.7.3"
  }
 },
 "nbformat": 4,
 "nbformat_minor": 2
}
