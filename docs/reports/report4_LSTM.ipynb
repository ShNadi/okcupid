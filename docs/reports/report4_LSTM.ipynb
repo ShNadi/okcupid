{
 "cells": [
  {
   "cell_type": "markdown",
   "metadata": {},
   "source": [
    "### LSTM"
   ]
  },
  {
   "cell_type": "code",
   "execution_count": 117,
   "metadata": {},
   "outputs": [],
   "source": [
    "import pandas as pd\n",
    "import matplotlib.pyplot as plt\n",
    "from sklearn.feature_extraction.text import CountVectorizer\n",
    "from sklearn.model_selection import train_test_split\n",
    "from sklearn.naive_bayes import MultinomialNB\n",
    "from sklearn.metrics import accuracy_score\n",
    "from sklearn.multiclass import OneVsRestClassifier\n",
    "from sklearn.metrics import confusion_matrix\n",
    "from sklearn.feature_extraction.text import TfidfVectorizer\n",
    "import seaborn as sns\n",
    "from sklearn.metrics import classification_report\n",
    "import numpy as np\n",
    "import matplotlib.pyplot as plt\n",
    "import seaborn as sns\n",
    "from sklearn.model_selection import train_test_split\n",
    "from sklearn.preprocessing import LabelEncoder\n",
    "from keras.models import Model\n",
    "from keras.layers import LSTM, Activation, Dense, Dropout, Input, Embedding\n",
    "from keras.optimizers import RMSprop\n",
    "from keras.preprocessing.text import Tokenizer\n",
    "from keras.preprocessing import sequence\n",
    "from keras.utils import to_categorical\n",
    "from keras.callbacks import EarlyStopping\n",
    "%matplotlib inline"
   ]
  },
  {
   "cell_type": "code",
   "execution_count": 118,
   "metadata": {},
   "outputs": [
    {
     "data": {
      "text/html": [
       "<div>\n",
       "<style scoped>\n",
       "    .dataframe tbody tr th:only-of-type {\n",
       "        vertical-align: middle;\n",
       "    }\n",
       "\n",
       "    .dataframe tbody tr th {\n",
       "        vertical-align: top;\n",
       "    }\n",
       "\n",
       "    .dataframe thead th {\n",
       "        text-align: right;\n",
       "    }\n",
       "</style>\n",
       "<table border=\"1\" class=\"dataframe\">\n",
       "  <thead>\n",
       "    <tr style=\"text-align: right;\">\n",
       "      <th></th>\n",
       "      <th>age</th>\n",
       "      <th>sex</th>\n",
       "      <th>text</th>\n",
       "      <th>isced</th>\n",
       "      <th>isced2</th>\n",
       "      <th>#anwps</th>\n",
       "      <th>clean_text</th>\n",
       "    </tr>\n",
       "  </thead>\n",
       "  <tbody>\n",
       "    <tr>\n",
       "      <th>0</th>\n",
       "      <td>22</td>\n",
       "      <td>m</td>\n",
       "      <td>about me:i would love to think that i was some...</td>\n",
       "      <td>3.0</td>\n",
       "      <td>Upper secondary education</td>\n",
       "      <td>15.000000</td>\n",
       "      <td>mei love think kind intellectualeither dumbest...</td>\n",
       "    </tr>\n",
       "    <tr>\n",
       "      <th>2</th>\n",
       "      <td>38</td>\n",
       "      <td>m</td>\n",
       "      <td>i'm not ashamed of much, but writing public te...</td>\n",
       "      <td>7.0</td>\n",
       "      <td>Master or equivalent</td>\n",
       "      <td>18.000000</td>\n",
       "      <td>im ashamed writing public text onlinedating si...</td>\n",
       "    </tr>\n",
       "    <tr>\n",
       "      <th>3</th>\n",
       "      <td>23</td>\n",
       "      <td>m</td>\n",
       "      <td>i work in a library and go to school. . . read...</td>\n",
       "      <td>3.0</td>\n",
       "      <td>Upper secondary education</td>\n",
       "      <td>10.750000</td>\n",
       "      <td>work library school reading things written old...</td>\n",
       "    </tr>\n",
       "    <tr>\n",
       "      <th>4</th>\n",
       "      <td>29</td>\n",
       "      <td>m</td>\n",
       "      <td>hey how's it going? currently vague on the pro...</td>\n",
       "      <td>6.0</td>\n",
       "      <td>Bachelor or equivalent</td>\n",
       "      <td>11.833333</td>\n",
       "      <td>hey hows going currently vague profile know to...</td>\n",
       "    </tr>\n",
       "    <tr>\n",
       "      <th>5</th>\n",
       "      <td>29</td>\n",
       "      <td>m</td>\n",
       "      <td>i'm an australian living in san francisco, but...</td>\n",
       "      <td>6.0</td>\n",
       "      <td>Bachelor or equivalent</td>\n",
       "      <td>11.840000</td>\n",
       "      <td>im australian living san francisco dont hold t...</td>\n",
       "    </tr>\n",
       "  </tbody>\n",
       "</table>\n",
       "</div>"
      ],
      "text/plain": [
       "   age sex                                               text  isced  \\\n",
       "0   22   m  about me:i would love to think that i was some...    3.0   \n",
       "2   38   m  i'm not ashamed of much, but writing public te...    7.0   \n",
       "3   23   m  i work in a library and go to school. . . read...    3.0   \n",
       "4   29   m  hey how's it going? currently vague on the pro...    6.0   \n",
       "5   29   m  i'm an australian living in san francisco, but...    6.0   \n",
       "\n",
       "                      isced2     #anwps  \\\n",
       "0  Upper secondary education  15.000000   \n",
       "2       Master or equivalent  18.000000   \n",
       "3  Upper secondary education  10.750000   \n",
       "4     Bachelor or equivalent  11.833333   \n",
       "5     Bachelor or equivalent  11.840000   \n",
       "\n",
       "                                          clean_text  \n",
       "0  mei love think kind intellectualeither dumbest...  \n",
       "2  im ashamed writing public text onlinedating si...  \n",
       "3  work library school reading things written old...  \n",
       "4  hey hows going currently vague profile know to...  \n",
       "5  im australian living san francisco dont hold t...  "
      ]
     },
     "execution_count": 118,
     "metadata": {},
     "output_type": "execute_result"
    }
   ],
   "source": [
    "# Read dataset to dataframe\n",
    "df = pd.read_csv('../../data/processed/preprocessed_cupid.csv', usecols=['age', 'sex','#anwps', 'text', 'clean_text', 'isced', 'isced2'])\n",
    "df = df.dropna(subset=['clean_text', 'isced'])\n",
    "df.head()"
   ]
  },
  {
   "cell_type": "code",
   "execution_count": 119,
   "metadata": {},
   "outputs": [
    {
     "name": "stdout",
     "output_type": "stream",
     "text": [
      "unique class values in the original dataset: [3. 7. 6. 8. 5. 1.]\n",
      "classes count table:  col_0  count\n",
      "isced       \n",
      "1.0      177\n",
      "3.0     9353\n",
      "5.0     1450\n",
      "6.0    25849\n",
      "7.0    10314\n",
      "8.0     2781\n"
     ]
    }
   ],
   "source": [
    "df1 = df\n",
    "print(\"unique class values in the original dataset:\", df1['isced'].unique())\n",
    "print(\"classes count table: \", pd.crosstab(index=df1['isced'], columns='count'))\n",
    "\n",
    "# Merge class 1.0, 3.0 and 5.0\n",
    "df1['isced'].mask(df1['isced'].isin([3.0, 5.0]) , 1.0, inplace=True)\n",
    "# Merge class 6.0, 7.0 and 8.0\n",
    "df1['isced'].mask(df1['isced'].isin([6.0, 7.0]) , 8.0, inplace=True)"
   ]
  },
  {
   "cell_type": "code",
   "execution_count": 120,
   "metadata": {},
   "outputs": [
    {
     "name": "stdout",
     "output_type": "stream",
     "text": [
      "unique class values after merging: [1. 8.]\n",
      "count table after merging: col_0  count\n",
      "isced       \n",
      "1.0    10980\n",
      "8.0    38944\n"
     ]
    },
    {
     "data": {
      "image/png": "[encoded data removed]",
      "text/plain": [
       "<Figure size 864x288 with 1 Axes>"
      ]
     },
     "metadata": {
      "needs_background": "light"
     },
     "output_type": "display_data"
    }
   ],
   "source": [
    "print('unique class values after merging:', df1['isced'].unique())\n",
    "print(\"count table after merging:\", pd.crosstab(index=df1['isced'], columns='count'))\n",
    "# classes distribution\n",
    "cnt_isced = df1['isced'].value_counts()\n",
    "plt.figure(figsize=(12,4))\n",
    "sns.barplot(cnt_isced.index, cnt_isced.values, alpha=0.8)\n",
    "plt.ylabel('Number of Occurrences', fontsize=12)\n",
    "plt.xlabel('isced', fontsize=12)\n",
    "plt.xticks(rotation=90)\n",
    "plt.show();"
   ]
  },
  {
   "cell_type": "code",
   "execution_count": 141,
   "metadata": {},
   "outputs": [],
   "source": [
    "df1 = df1.dropna(subset=['clean_text', 'isced'])\n",
    "X = df1.clean_text\n",
    "Y = df1.isced\n"
   ]
  },
  {
   "cell_type": "code",
   "execution_count": 142,
   "metadata": {},
   "outputs": [],
   "source": [
    "le = LabelEncoder()\n",
    "Y = le.fit_transform(Y)\n",
    "Y = Y.reshape(-1,1)"
   ]
  },
  {
   "cell_type": "code",
   "execution_count": 143,
   "metadata": {},
   "outputs": [],
   "source": [
    "X_train,X_test,Y_train,Y_test = train_test_split(X,Y,test_size=0.15)\n"
   ]
  },
  {
   "cell_type": "code",
   "execution_count": 151,
   "metadata": {},
   "outputs": [],
   "source": [
    "max_words = 2000\n",
    "max_len = 150\n",
    "tok = Tokenizer(num_words=max_words)\n",
    "tok.fit_on_texts(X_train)\n",
    "sequences = tok.texts_to_sequences(X_train)\n",
    "sequences_matrix = sequence.pad_sequences(sequences,maxlen=max_len)"
   ]
  },
  {
   "cell_type": "markdown",
   "metadata": {},
   "source": [
    "### RNN"
   ]
  },
  {
   "cell_type": "code",
   "execution_count": 152,
   "metadata": {},
   "outputs": [],
   "source": [
    "def RNN():\n",
    "    inputs = Input(name='inputs',shape=[max_len])\n",
    "    layer = Embedding(max_words,50,input_length=max_len)(inputs)\n",
    "    layer = LSTM(64)(layer)\n",
    "    layer = Dense(256,name='FC1')(layer)\n",
    "    layer = Activation('relu')(layer)\n",
    "    layer = Dropout(0.5)(layer)\n",
    "    layer = Dense(1,name='out_layer')(layer)\n",
    "    layer = Activation('sigmoid')(layer)\n",
    "    model = Model(inputs=inputs,outputs=layer)\n",
    "    return model"
   ]
  },
  {
   "cell_type": "code",
   "execution_count": 153,
   "metadata": {},
   "outputs": [
    {
     "name": "stdout",
     "output_type": "stream",
     "text": [
      "_________________________________________________________________\n",
      "Layer (type)                 Output Shape              Param #   \n",
      "=================================================================\n",
      "inputs (InputLayer)          (None, 150)               0         \n",
      "_________________________________________________________________\n",
      "embedding_10 (Embedding)     (None, 150, 50)           100000    \n",
      "_________________________________________________________________\n",
      "lstm_10 (LSTM)               (None, 64)                29440     \n",
      "_________________________________________________________________\n",
      "FC1 (Dense)                  (None, 256)               16640     \n",
      "_________________________________________________________________\n",
      "activation_19 (Activation)   (None, 256)               0         \n",
      "_________________________________________________________________\n",
      "dropout_10 (Dropout)         (None, 256)               0         \n",
      "_________________________________________________________________\n",
      "out_layer (Dense)            (None, 1)                 257       \n",
      "_________________________________________________________________\n",
      "activation_20 (Activation)   (None, 1)                 0         \n",
      "=================================================================\n",
      "Total params: 146,337\n",
      "Trainable params: 146,337\n",
      "Non-trainable params: 0\n",
      "_________________________________________________________________\n"
     ]
    }
   ],
   "source": [
    "model = RNN()\n",
    "model.summary()\n",
    "model.compile(loss='binary_crossentropy',optimizer=RMSprop(),metrics=['accuracy'])\n"
   ]
  },
  {
   "cell_type": "code",
   "execution_count": 154,
   "metadata": {},
   "outputs": [
    {
     "name": "stdout",
     "output_type": "stream",
     "text": [
      "Train on 33948 samples, validate on 8487 samples\n",
      "Epoch 1/10\n",
      "33948/33948 [==============================] - 60s 2ms/step - loss: 0.4584 - acc: 0.8027 - val_loss: 0.4751 - val_acc: 0.8198\n",
      "Epoch 2/10\n",
      "33948/33948 [==============================] - 57s 2ms/step - loss: 0.3968 - acc: 0.8323 - val_loss: 0.3995 - val_acc: 0.8317\n",
      "Epoch 3/10\n",
      "33948/33948 [==============================] - 57s 2ms/step - loss: 0.3768 - acc: 0.8416 - val_loss: 0.3946 - val_acc: 0.8329\n",
      "Epoch 4/10\n",
      "33948/33948 [==============================] - 55s 2ms/step - loss: 0.3649 - acc: 0.8484 - val_loss: 0.4037 - val_acc: 0.8170\n"
     ]
    },
    {
     "data": {
      "text/plain": [
       "<keras.callbacks.History at 0x21071236e80>"
      ]
     },
     "execution_count": 154,
     "metadata": {},
     "output_type": "execute_result"
    }
   ],
   "source": [
    "model.fit(sequences_matrix,Y_train,batch_size=128,epochs=10,\n",
    "          validation_split=0.2,callbacks=[EarlyStopping(monitor='val_loss',min_delta=0.0001)])"
   ]
  },
  {
   "cell_type": "code",
   "execution_count": 155,
   "metadata": {},
   "outputs": [],
   "source": [
    "test_sequences = tok.texts_to_sequences(X_test)\n",
    "test_sequences_matrix = sequence.pad_sequences(test_sequences,maxlen=max_len)"
   ]
  },
  {
   "cell_type": "code",
   "execution_count": 156,
   "metadata": {},
   "outputs": [
    {
     "name": "stdout",
     "output_type": "stream",
     "text": [
      "7489/7489 [==============================] - 4s 470us/step\n"
     ]
    }
   ],
   "source": [
    "accr = model.evaluate(test_sequences_matrix,Y_test)"
   ]
  },
  {
   "cell_type": "code",
   "execution_count": 157,
   "metadata": {},
   "outputs": [
    {
     "name": "stdout",
     "output_type": "stream",
     "text": [
      "Test set\n",
      "  Loss: 0.400\n",
      "  Accuracy: 0.826\n"
     ]
    }
   ],
   "source": [
    "print('Test set\\n  Loss: {:0.3f}\\n  Accuracy: {:0.3f}'.format(accr[0],accr[1]))"
   ]
  },
  {
   "cell_type": "code",
   "execution_count": null,
   "metadata": {},
   "outputs": [],
   "source": []
  }
 ],
 "metadata": {
  "kernelspec": {
   "display_name": "Python 3",
   "language": "python",
   "name": "python3"
  },
  "language_info": {
   "codemirror_mode": {
    "name": "ipython",
    "version": 3
   },
   "file_extension": ".py",
   "mimetype": "text/x-python",
   "name": "python",
   "nbconvert_exporter": "python",
   "pygments_lexer": "ipython3",
   "version": "3.7.3"
  }
 },
 "nbformat": 4,
 "nbformat_minor": 2
}
