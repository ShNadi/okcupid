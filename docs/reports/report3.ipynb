{
 "cells": [
  {
   "cell_type": "markdown",
   "metadata": {
    "slideshow": {
     "slide_type": "slide"
    }
   },
   "source": [
    "### OkCupid DataSet\n",
    "### Meeting 4, 28- 01- 2020\n"
   ]
  },
  {
   "cell_type": "markdown",
   "metadata": {
    "slideshow": {
     "slide_type": "-"
    }
   },
   "source": [
    "### Recap last meeting's decisions:\n",
    "<ol>\n",
    "  <p>Meeting 3, 10- 12- 2019</p>\n",
    "    <li>Check all the preprocessing steps.</li>\n",
    "    <li>The dataset is extremely imbalanced.</li>\n",
    "    <li>Exclude class 1 and class 5 inorder to make the dataset balanced.</li>\n",
    "\n",
    "</ol>\n",
    "\n",
    "### To discuss:\n",
    "\n",
    "<ol>\n",
    "  <p></p>  \n",
    "  <li>Decide about class 8</li>\n",
    "  \n",
    "</ol>"
   ]
  },
  {
   "cell_type": "code",
   "execution_count": 84,
   "metadata": {
    "slideshow": {
     "slide_type": "slide"
    }
   },
   "outputs": [],
   "source": [
    "import pandas as pd\n",
    "import matplotlib.pyplot as plt\n",
    "from sklearn.feature_extraction.text import CountVectorizer\n",
    "from sklearn.model_selection import train_test_split\n",
    "from sklearn.naive_bayes import MultinomialNB\n",
    "from sklearn.metrics import accuracy_score\n",
    "from sklearn.multiclass import OneVsRestClassifier\n",
    "from sklearn.metrics import confusion_matrix\n",
    "from sklearn.feature_extraction.text import TfidfVectorizer\n",
    "import seaborn as sns\n"
   ]
  },
  {
   "cell_type": "code",
   "execution_count": 85,
   "metadata": {
    "slideshow": {
     "slide_type": "slide"
    }
   },
   "outputs": [],
   "source": [
    "df = pd.read_csv('../../data/processed/preprocessed_cupid.csv', usecols=['age', 'sex','#anwps', 'clean_text', 'isced', 'isced2'])\n"
   ]
  },
  {
   "cell_type": "code",
   "execution_count": 86,
   "metadata": {
    "slideshow": {
     "slide_type": "-"
    }
   },
   "outputs": [
    {
     "data": {
      "text/html": [
       "<div>\n",
       "<style scoped>\n",
       "    .dataframe tbody tr th:only-of-type {\n",
       "        vertical-align: middle;\n",
       "    }\n",
       "\n",
       "    .dataframe tbody tr th {\n",
       "        vertical-align: top;\n",
       "    }\n",
       "\n",
       "    .dataframe thead th {\n",
       "        text-align: right;\n",
       "    }\n",
       "</style>\n",
       "<table border=\"1\" class=\"dataframe\">\n",
       "  <thead>\n",
       "    <tr style=\"text-align: right;\">\n",
       "      <th></th>\n",
       "      <th>age</th>\n",
       "      <th>sex</th>\n",
       "      <th>isced</th>\n",
       "      <th>isced2</th>\n",
       "      <th>#anwps</th>\n",
       "      <th>clean_text</th>\n",
       "    </tr>\n",
       "  </thead>\n",
       "  <tbody>\n",
       "    <tr>\n",
       "      <th>0</th>\n",
       "      <td>22</td>\n",
       "      <td>m</td>\n",
       "      <td>3.0</td>\n",
       "      <td>Upper secondary education</td>\n",
       "      <td>15.000000</td>\n",
       "      <td>mei love think kind intellectualeither dumbest...</td>\n",
       "    </tr>\n",
       "    <tr>\n",
       "      <th>2</th>\n",
       "      <td>38</td>\n",
       "      <td>m</td>\n",
       "      <td>7.0</td>\n",
       "      <td>Master or equivalent</td>\n",
       "      <td>18.000000</td>\n",
       "      <td>im ashamed writing public text onlinedating si...</td>\n",
       "    </tr>\n",
       "    <tr>\n",
       "      <th>3</th>\n",
       "      <td>23</td>\n",
       "      <td>m</td>\n",
       "      <td>3.0</td>\n",
       "      <td>Upper secondary education</td>\n",
       "      <td>10.750000</td>\n",
       "      <td>work library school reading things written old...</td>\n",
       "    </tr>\n",
       "    <tr>\n",
       "      <th>4</th>\n",
       "      <td>29</td>\n",
       "      <td>m</td>\n",
       "      <td>6.0</td>\n",
       "      <td>Bachelor or equivalent</td>\n",
       "      <td>11.833333</td>\n",
       "      <td>hey hows going currently vague profile know to...</td>\n",
       "    </tr>\n",
       "    <tr>\n",
       "      <th>5</th>\n",
       "      <td>29</td>\n",
       "      <td>m</td>\n",
       "      <td>6.0</td>\n",
       "      <td>Bachelor or equivalent</td>\n",
       "      <td>11.840000</td>\n",
       "      <td>im australian living san francisco dont hold t...</td>\n",
       "    </tr>\n",
       "  </tbody>\n",
       "</table>\n",
       "</div>"
      ],
      "text/plain": [
       "   age sex  isced                     isced2     #anwps  \\\n",
       "0   22   m    3.0  Upper secondary education  15.000000   \n",
       "2   38   m    7.0       Master or equivalent  18.000000   \n",
       "3   23   m    3.0  Upper secondary education  10.750000   \n",
       "4   29   m    6.0     Bachelor or equivalent  11.833333   \n",
       "5   29   m    6.0     Bachelor or equivalent  11.840000   \n",
       "\n",
       "                                          clean_text  \n",
       "0  mei love think kind intellectualeither dumbest...  \n",
       "2  im ashamed writing public text onlinedating si...  \n",
       "3  work library school reading things written old...  \n",
       "4  hey hows going currently vague profile know to...  \n",
       "5  im australian living san francisco dont hold t...  "
      ]
     },
     "execution_count": 86,
     "metadata": {},
     "output_type": "execute_result"
    }
   ],
   "source": [
    "df = df.dropna(subset=['clean_text', 'isced'])\n",
    "df.head()\n",
    "\n",
    "#"
   ]
  },
  {
   "cell_type": "markdown",
   "metadata": {
    "slideshow": {
     "slide_type": "skip"
    }
   },
   "source": [
    "# Preprocessing:\n"
   ]
  },
  {
   "cell_type": "markdown",
   "metadata": {
    "slideshow": {
     "slide_type": "skip"
    }
   },
   "source": [
    "## 1- expand contractions"
   ]
  },
  {
   "cell_type": "code",
   "execution_count": 87,
   "metadata": {
    "slideshow": {
     "slide_type": "skip"
    }
   },
   "outputs": [],
   "source": [
    " import contractions\n",
    "# df['clean_textk'] = df['clean_text'].str.lower()\n",
    "\n",
    "\n",
    "# def expand_contractions(text):\n",
    "#     expanded = contractions.fix(text)\n",
    "#     return expanded\n",
    "\n",
    "# df['v'] = df.apply(lambda x: expand_contractions(x['clean_textk']), axis=1)\n"
   ]
  },
  {
   "cell_type": "markdown",
   "metadata": {
    "slideshow": {
     "slide_type": "skip"
    }
   },
   "source": [
    "## 2- Lemmatization"
   ]
  },
  {
   "cell_type": "code",
   "execution_count": 88,
   "metadata": {
    "slideshow": {
     "slide_type": "skip"
    }
   },
   "outputs": [],
   "source": [
    "# # from tqdm import tqdm, tqdm_notebook---- Lemmatization\n",
    "# from tqdm._tqdm_notebook import tqdm_notebook\n",
    "\n",
    "# tqdm_notebook.pandas()\n",
    "# df = pd.read_csv('D:\\projects\\okcupid\\data\\processed/preprocessed_cupid.csv')\n",
    "# df = df.dropna(subset=['clean_text', 'isced'])\n",
    "\n",
    "# df[\"clean_text\"] = df[\"clean_text\"].progress_apply(lambda row: \" \".join([w.lemma_ for w in nlp(row)]))"
   ]
  },
  {
   "cell_type": "markdown",
   "metadata": {
    "slideshow": {
     "slide_type": "slide"
    }
   },
   "source": [
    "## Removing outliers"
   ]
  },
  {
   "cell_type": "code",
   "execution_count": 89,
   "metadata": {
    "slideshow": {
     "slide_type": "-"
    }
   },
   "outputs": [
    {
     "data": {
      "text/plain": [
       "Text(0.5, 1.0, 'Boxplot of the avarage number of words per sentence')"
      ]
     },
     "execution_count": 89,
     "metadata": {},
     "output_type": "execute_result"
    },
    {
     "data": {
      "image/png": "[encoded data removed]",
      "text/plain": [
       "<Figure size 432x288 with 1 Axes>"
      ]
     },
     "metadata": {
      "needs_background": "light"
     },
     "output_type": "display_data"
    }
   ],
   "source": [
    "sns.boxplot(df[\"#anwps\"]).set_title(\"Boxplot of the avarage number of words per sentence\")\n"
   ]
  },
  {
   "cell_type": "code",
   "execution_count": 90,
   "metadata": {
    "slideshow": {
     "slide_type": "slide"
    }
   },
   "outputs": [
    {
     "data": {
      "text/plain": [
       "Text(0.5, 1.0, 'Boxplot of the avarage number of words per sentence')"
      ]
     },
     "execution_count": 90,
     "metadata": {},
     "output_type": "execute_result"
    },
    {
     "data": {
      "image/png": "[encoded data removed]",
      "text/plain": [
       "<Figure size 432x288 with 1 Axes>"
      ]
     },
     "metadata": {
      "needs_background": "light"
     },
     "output_type": "display_data"
    }
   ],
   "source": [
    "df = df[(df['#anwps']<35) & (df['#anwps']>3)]\n",
    "sns.boxplot(df[\"#anwps\"]).set_title(\"Boxplot of the avarage number of words per sentence\")\n"
   ]
  },
  {
   "cell_type": "markdown",
   "metadata": {
    "slideshow": {
     "slide_type": "slide"
    }
   },
   "source": [
    "## Imbalanced datasets\n",
    "### In a dataset with highly imbalanced classes, if the classifier always \"predicts\" the most common class without performing any analysis of the features, it will still have a high accuracy rate\n"
   ]
  },
  {
   "cell_type": "code",
   "execution_count": 91,
   "metadata": {
    "slideshow": {
     "slide_type": "-"
    }
   },
   "outputs": [
    {
     "data": {
      "text/html": [
       "<div>\n",
       "<style scoped>\n",
       "    .dataframe tbody tr th:only-of-type {\n",
       "        vertical-align: middle;\n",
       "    }\n",
       "\n",
       "    .dataframe tbody tr th {\n",
       "        vertical-align: top;\n",
       "    }\n",
       "\n",
       "    .dataframe thead th {\n",
       "        text-align: right;\n",
       "    }\n",
       "</style>\n",
       "<table border=\"1\" class=\"dataframe\">\n",
       "  <thead>\n",
       "    <tr style=\"text-align: right;\">\n",
       "      <th>col_0</th>\n",
       "      <th>count</th>\n",
       "    </tr>\n",
       "    <tr>\n",
       "      <th>isced</th>\n",
       "      <th></th>\n",
       "    </tr>\n",
       "  </thead>\n",
       "  <tbody>\n",
       "    <tr>\n",
       "      <th>1.0</th>\n",
       "      <td>149</td>\n",
       "    </tr>\n",
       "    <tr>\n",
       "      <th>3.0</th>\n",
       "      <td>8429</td>\n",
       "    </tr>\n",
       "    <tr>\n",
       "      <th>5.0</th>\n",
       "      <td>1294</td>\n",
       "    </tr>\n",
       "    <tr>\n",
       "      <th>6.0</th>\n",
       "      <td>23977</td>\n",
       "    </tr>\n",
       "    <tr>\n",
       "      <th>7.0</th>\n",
       "      <td>9507</td>\n",
       "    </tr>\n",
       "    <tr>\n",
       "      <th>8.0</th>\n",
       "      <td>2566</td>\n",
       "    </tr>\n",
       "  </tbody>\n",
       "</table>\n",
       "</div>"
      ],
      "text/plain": [
       "col_0  count\n",
       "isced       \n",
       "1.0      149\n",
       "3.0     8429\n",
       "5.0     1294\n",
       "6.0    23977\n",
       "7.0     9507\n",
       "8.0     2566"
      ]
     },
     "execution_count": 91,
     "metadata": {},
     "output_type": "execute_result"
    }
   ],
   "source": [
    "# df.isced.value_counts().plot(kind='bar', title= 'Count target')\n",
    "outcome = pd.crosstab(index=df['isced'], columns='count')\n",
    "outcome"
   ]
  },
  {
   "cell_type": "code",
   "execution_count": 92,
   "metadata": {
    "slideshow": {
     "slide_type": "slide"
    }
   },
   "outputs": [
    {
     "data": {
      "image/png": "[encoded data removed]",
      "text/plain": [
       "<Figure size 864x288 with 1 Axes>"
      ]
     },
     "metadata": {
      "needs_background": "light"
     },
     "output_type": "display_data"
    }
   ],
   "source": [
    "\n",
    "cnt_isced = df['isced'].value_counts()\n",
    "plt.figure(figsize=(12,4))\n",
    "sns.barplot(cnt_isced.index, cnt_isced.values, alpha=0.8)\n",
    "plt.ylabel('Number of Occurrences', fontsize=12)\n",
    "plt.xlabel('isced', fontsize=12)\n",
    "plt.xticks(rotation=90)\n",
    "plt.show();"
   ]
  },
  {
   "cell_type": "code",
   "execution_count": 107,
   "metadata": {
    "slideshow": {
     "slide_type": "slide"
    }
   },
   "outputs": [],
   "source": [
    "# # Remove classes 1, 5 and 8 from dataset\n",
    "df = df[df['isced'].isin([6.0, 7.0, 3.0])]"
   ]
  },
  {
   "cell_type": "code",
   "execution_count": 108,
   "metadata": {
    "slideshow": {
     "slide_type": "-"
    }
   },
   "outputs": [
    {
     "data": {
      "image/png": "[encoded data removed]",
      "text/plain": [
       "<Figure size 864x288 with 1 Axes>"
      ]
     },
     "metadata": {
      "needs_background": "light"
     },
     "output_type": "display_data"
    }
   ],
   "source": [
    "# df.isced.value_counts().plot(kind='bar', title= 'Count target')\n",
    "cnt_isced = df['isced'].value_counts()\n",
    "plt.figure(figsize=(12,4))\n",
    "sns.barplot(cnt_isced.index, cnt_isced.values, alpha=0.8)\n",
    "plt.ylabel('Number of Occurrences', fontsize=12)\n",
    "plt.xlabel('isced', fontsize=12)\n",
    "plt.xticks(rotation=90)\n",
    "plt.show();"
   ]
  },
  {
   "cell_type": "code",
   "execution_count": 109,
   "metadata": {
    "slideshow": {
     "slide_type": "slide"
    }
   },
   "outputs": [],
   "source": [
    "def plot_conf(conf_matrix):\n",
    "    print('Confusion matrix:\\n', conf_matrix)\n",
    "    labels = ['3', '6', '7', '8']\n",
    "\n",
    "    fig = plt.figure()\n",
    "    ax = fig.add_subplot(111)\n",
    "    cax = ax.matshow(conf_matrix, cmap=plt.cm.Blues)\n",
    "    fig.colorbar(cax)\n",
    "    ax.set_xticklabels([''] + labels)\n",
    "    ax.set_yticklabels([''] + labels)\n",
    "    plt.xlabel('Predicted class')\n",
    "    plt.ylabel('Actual class')\n",
    "    plt.show()"
   ]
  },
  {
   "cell_type": "code",
   "execution_count": 110,
   "metadata": {
    "slideshow": {
     "slide_type": "slide"
    }
   },
   "outputs": [],
   "source": [
    "df = df.dropna(subset=['clean_text', 'isced'])\n",
    "# df = df.dropna(subset=['stemmed', 'isced'])\n",
    "\n",
    "corpus = df['clean_text']\n",
    "# corpus = df['stemmed']\n",
    "target = df[\"isced\"]\n",
    "# frequency encoding scikit-learn\n",
    "# vectorizer = CountVectorizer(binary=False, ngram_range=(1, 2))\n",
    "# vectors = vectorizer.fit_transform(corpus)\n"
   ]
  },
  {
   "cell_type": "code",
   "execution_count": 111,
   "metadata": {
    "slideshow": {
     "slide_type": "skip"
    }
   },
   "outputs": [],
   "source": [
    "# X_train, X_val, y_train, y_val = train_test_split(vectors, target, train_size=0.75,\n",
    "#                                                           test_size=0.25, random_state = 0)"
   ]
  },
  {
   "cell_type": "code",
   "execution_count": 112,
   "metadata": {
    "slideshow": {
     "slide_type": "slide"
    }
   },
   "outputs": [],
   "source": [
    " X_train, X_val, y_train, y_val = train_test_split(corpus, target, train_size=0.75,\n",
    "                                                          test_size=0.25, random_state = 0)\n",
    "vectorizer = CountVectorizer(binary=False, ngram_range=(1, 2), lowercase=True)\n",
    "# vectorizer = TfidfVectorizer(binary=False, ngram_range=(1, 2))\n",
    "\n",
    "vectors_train = vectorizer.fit_transform(X_train)\n",
    "vectors_val = vectorizer.transform(X_val)\n",
    "X_train = vectors_train\n",
    "X_val = vectors_val"
   ]
  },
  {
   "cell_type": "code",
   "execution_count": 113,
   "metadata": {
    "slideshow": {
     "slide_type": "slide"
    }
   },
   "outputs": [],
   "source": [
    "import imblearn\n",
    "from imblearn.under_sampling import RandomUnderSampler\n",
    "from imblearn.over_sampling import RandomOverSampler\n"
   ]
  },
  {
   "cell_type": "markdown",
   "metadata": {
    "slideshow": {
     "slide_type": "-"
    }
   },
   "source": [
    "## Re-sampling Dataset\n",
    "<ol>\n",
    "    <p>To make our dataset balanced there are two ways to do so:</p>\n",
    "    <li>Under-sampling: Remove samples from over-represented classes ; use in the case of huge dataset </li>\n",
    "    <li>Over-sampling: Add more samples from under-represented classes; use in the case of small dataset</li> \n",
    "\n",
    "</ol>\n",
    "<ol>\n",
    "  <p></p>\n",
    "    <img src=\"rep2_image/resampling.JPG\">\n",
    "    \n",
    "  \n",
    "  \n",
    "\n",
    "</ol>"
   ]
  },
  {
   "cell_type": "code",
   "execution_count": 114,
   "metadata": {
    "slideshow": {
     "slide_type": "skip"
    }
   },
   "outputs": [],
   "source": [
    "# rus = RandomUnderSampler(random_state=42)\n",
    "# X_res, y_res = rus.fit_resample(X_train, y_train)\n",
    "# y_res.value_counts().plot(kind='bar', title= 'Count target')\n"
   ]
  },
  {
   "cell_type": "code",
   "execution_count": 115,
   "metadata": {
    "slideshow": {
     "slide_type": "slide"
    }
   },
   "outputs": [
    {
     "data": {
      "text/plain": [
       "<matplotlib.axes._subplots.AxesSubplot at 0x240b33e86a0>"
      ]
     },
     "execution_count": 115,
     "metadata": {},
     "output_type": "execute_result"
    },
    {
     "data": {
      "image/png": "[encoded data removed]",
      "text/plain": [
       "<Figure size 432x288 with 1 Axes>"
      ]
     },
     "metadata": {
      "needs_background": "light"
     },
     "output_type": "display_data"
    }
   ],
   "source": [
    "ros = RandomOverSampler()\n",
    "X_ros, y_ros = ros.fit_sample(X_train, y_train)\n",
    "y_ros.value_counts().plot(kind='bar', title= 'Count target')\n",
    "# cnt_isced = y_ros.value_counts()\n",
    "# plt.figure(figsize=(12,4))\n",
    "# sns.barplot(cnt_isced.index, cnt_isced.values, alpha=0.8)\n",
    "# plt.ylabel('Number of Occurrences', fontsize=12)\n",
    "# plt.xlabel('isced', fontsize=12)\n",
    "# plt.xticks(rotation=90)\n",
    "# plt.show();"
   ]
  },
  {
   "cell_type": "code",
   "execution_count": 116,
   "metadata": {
    "slideshow": {
     "slide_type": "skip"
    }
   },
   "outputs": [],
   "source": [
    "# target_names = y_ros.unique()"
   ]
  },
  {
   "cell_type": "markdown",
   "metadata": {
    "slideshow": {
     "slide_type": "slide"
    }
   },
   "source": [
    "## Naive Bayes\n",
    "### - Extremely fast and simple classification algorithms\n",
    "### - Suitable for very high-dimensional datasets\n",
    "### - Few tunable parameters\n",
    "### -Very useful as a quick-and-dirty baseline for a classification problem"
   ]
  },
  {
   "cell_type": "code",
   "execution_count": 117,
   "metadata": {
    "slideshow": {
     "slide_type": "slide"
    }
   },
   "outputs": [
    {
     "name": "stdout",
     "output_type": "stream",
     "text": [
      "Final Accuracy for NB: 0.6062601393262715\n",
      "Confusion matrix:\n",
      " [[1038  938  111]\n",
      " [ 512 4543  950]\n",
      " [ 115 1500  772]]\n"
     ]
    },
    {
     "data": {
      "image/png": "[encoded data removed]",
      "text/plain": [
       "<Figure size 432x288 with 2 Axes>"
      ]
     },
     "metadata": {
      "needs_background": "light"
     },
     "output_type": "display_data"
    },
    {
     "name": "stdout",
     "output_type": "stream",
     "text": [
      "              precision    recall  f1-score   support\n",
      "\n",
      "         3.0       0.62      0.50      0.55      2087\n",
      "         6.0       0.65      0.76      0.70      6005\n",
      "         7.0       0.42      0.32      0.37      2387\n",
      "\n",
      "    accuracy                           0.61     10479\n",
      "   macro avg       0.57      0.53      0.54     10479\n",
      "weighted avg       0.59      0.61      0.59     10479\n",
      "\n"
     ]
    }
   ],
   "source": [
    "from sklearn.feature_extraction.text import TfidfVectorizer\n",
    "from sklearn.naive_bayes import MultinomialNB\n",
    "from sklearn.pipeline import make_pipeline\n",
    "\n",
    "model = make_pipeline(MultinomialNB())\n",
    "model.fit(X_ros, y_ros)\n",
    "gnb_predictions = model.predict(X_val)\n",
    "print(\"Final Accuracy for NB: %s\"% accuracy_score(y_val, gnb_predictions))\n",
    "cm = confusion_matrix(y_val, gnb_predictions) \n",
    "plot_conf(cm)\n",
    "from sklearn.metrics import classification_report\n",
    "\n",
    "print(classification_report(y_val, gnb_predictions))"
   ]
  },
  {
   "cell_type": "markdown",
   "metadata": {
    "slideshow": {
     "slide_type": "slide"
    }
   },
   "source": [
    "# Evaluation Metrics in Classification\n",
    "<ol>\n",
    "    <p></p>\n",
    "    <img src=\"rep2_image/confiusion matrix1.jpg\">  \n",
    "  \n",
    "\n",
    "</ol>\n",
    "\n",
    "\n"
   ]
  },
  {
   "cell_type": "markdown",
   "metadata": {
    "slideshow": {
     "slide_type": "slide"
    }
   },
   "source": [
    "# Logistic Regression"
   ]
  },
  {
   "cell_type": "code",
   "execution_count": 40,
   "metadata": {
    "slideshow": {
     "slide_type": "-"
    }
   },
   "outputs": [
    {
     "name": "stdout",
     "output_type": "stream",
     "text": [
      "Final Accuracy for LogisticRegression: 0.6204790533447848\n",
      "Confusion matrix:\n",
      " [[1178  822   87]\n",
      " [ 630 4574  801]\n",
      " [ 136 1501  750]]\n"
     ]
    },
    {
     "data": {
      "image/png": "[encoded data removed]",
      "text/plain": [
       "<Figure size 432x288 with 2 Axes>"
      ]
     },
     "metadata": {
      "needs_background": "light"
     },
     "output_type": "display_data"
    }
   ],
   "source": [
    "from sklearn.linear_model import LogisticRegression\n",
    "clf = LogisticRegression(random_state=0, multi_class='ovr', solver='liblinear').fit(X_ros, y_ros)\n",
    "logistic_predictions = clf.predict(X_val)\n",
    "print(\"Final Accuracy for LogisticRegression: %s\"% accuracy_score(y_val, logistic_predictions))\n",
    "cm = confusion_matrix(y_val, logistic_predictions) \n",
    "plot_conf(cm)"
   ]
  },
  {
   "cell_type": "code",
   "execution_count": 41,
   "metadata": {
    "slideshow": {
     "slide_type": "-"
    }
   },
   "outputs": [
    {
     "name": "stdout",
     "output_type": "stream",
     "text": [
      "              precision    recall  f1-score   support\n",
      "\n",
      "         3.0       0.61      0.56      0.58      2087\n",
      "         6.0       0.66      0.76      0.71      6005\n",
      "         7.0       0.46      0.31      0.37      2387\n",
      "\n",
      "    accuracy                           0.62     10479\n",
      "   macro avg       0.58      0.55      0.56     10479\n",
      "weighted avg       0.61      0.62      0.61     10479\n",
      "\n"
     ]
    }
   ],
   "source": [
    "print(classification_report(y_val, logistic_predictions))"
   ]
  },
  {
   "cell_type": "code",
   "execution_count": 42,
   "metadata": {
    "slideshow": {
     "slide_type": "slide"
    }
   },
   "outputs": [
    {
     "name": "stdout",
     "output_type": "stream",
     "text": [
      "Final Accuracy for LogisticRegression: 0.619524763813341\n",
      "Confusion matrix:\n",
      " [[1166  835   86]\n",
      " [ 618 4572  815]\n",
      " [ 133 1500  754]]\n"
     ]
    },
    {
     "data": {
      "image/png": "[encoded data removed]",
      "text/plain": [
       "<Figure size 432x288 with 2 Axes>"
      ]
     },
     "metadata": {
      "needs_background": "light"
     },
     "output_type": "display_data"
    },
    {
     "name": "stdout",
     "output_type": "stream",
     "text": [
      "              precision    recall  f1-score   support\n",
      "\n",
      "         3.0       0.61      0.56      0.58      2087\n",
      "         6.0       0.66      0.76      0.71      6005\n",
      "         7.0       0.46      0.32      0.37      2387\n",
      "\n",
      "    accuracy                           0.62     10479\n",
      "   macro avg       0.58      0.55      0.55     10479\n",
      "weighted avg       0.60      0.62      0.61     10479\n",
      "\n"
     ]
    }
   ],
   "source": [
    "from sklearn.linear_model import LogisticRegression\n",
    "clf = LogisticRegression(random_state=0, multi_class='multinomial', solver='newton-cg').fit(X_ros, y_ros)\n",
    "logistic_predictions = clf.predict(X_val)\n",
    "print(\"Final Accuracy for LogisticRegression: %s\"% accuracy_score(y_val, logistic_predictions))\n",
    "cm = confusion_matrix(y_val, logistic_predictions) \n",
    "plot_conf(cm)\n",
    "print(classification_report(y_val, logistic_predictions))"
   ]
  },
  {
   "cell_type": "markdown",
   "metadata": {
    "slideshow": {
     "slide_type": "slide"
    }
   },
   "source": [
    "## check for different settings:\n",
    "<ol>\n",
    "    <p><b> checking for the effect of unigram/bigram/tigram, TF/TF-IDF on accuracy</b> </p>\n",
    "    <img src=\"rep2_image/pre_tabel1.jpg\"> \n",
    "    <p><b> checking for the effect of characters decaptalization on the accuracy</b> </p>\n",
    "    <img src=\"rep2_image/pre_tabel2.jpg\"> \n",
    "    \n",
    "\n",
    "</ol>\n",
    "\n"
   ]
  },
  {
   "cell_type": "markdown",
   "metadata": {
    "slideshow": {
     "slide_type": "slide"
    }
   },
   "source": [
    "## check for different settings:\n",
    "\n",
    "<ol>    \n",
    "    <p><b> checking for the effect of stopwords and punctuations on the accuracy</b> </p>\n",
    "    <img src=\"rep2_image/pre_tabel3.jpg\">\n",
    "    <p><b> checking for the effect of lemmatization on the accuracy</b> </p>\n",
    "    <img src=\"rep2_image/pre_tabel4.jpg\">   \n",
    "\n",
    "</ol>\n"
   ]
  },
  {
   "cell_type": "markdown",
   "metadata": {
    "slideshow": {
     "slide_type": "skip"
    }
   },
   "source": [
    "## TODO:\n",
    "### 1- Cross validation\n",
    "### 2- Gride search"
   ]
  }
 ],
 "metadata": {
  "celltoolbar": "Slideshow",
  "kernelspec": {
   "display_name": "Python 3",
   "language": "python",
   "name": "python3"
  },
  "language_info": {
   "codemirror_mode": {
    "name": "ipython",
    "version": 3
   },
   "file_extension": ".py",
   "mimetype": "text/x-python",
   "name": "python",
   "nbconvert_exporter": "python",
   "pygments_lexer": "ipython3",
   "version": "3.7.3"
  }
 },
 "nbformat": 4,
 "nbformat_minor": 2
}
