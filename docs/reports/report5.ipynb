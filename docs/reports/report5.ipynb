{
 "cells": [
  {
   "cell_type": "markdown",
   "metadata": {
    "slideshow": {
     "slide_type": "slide"
    }
   },
   "source": [
    "### OkCupid DataSet: Classify using combination of text data and metadata\n",
    "### Meeting 5, 03- 03- 2020\n"
   ]
  },
  {
   "cell_type": "markdown",
   "metadata": {
    "slideshow": {
     "slide_type": "slide"
    }
   },
   "source": [
    "### Recap last meeting's decisions:\n",
    "<ol>\n",
    "  <p>Meeting 4, 28- 01- 2020</p>\n",
    "    <li> Approach 1: </li>\n",
    "    <ul>\n",
    "    <li>Merge classs 1, 3 and 5</li>\n",
    "    <li>Under sample class 6 </li>\n",
    "    <li> Merge classes 6, 7, 8</li>\n",
    "     </ul>    \n",
    "    <li> Approach 2:</li>\n",
    "    <ul>\n",
    "    <li>Merge classs 1, 3 and 5 as class 1</li>    \n",
    "    <li> Merge classes 6, 7, 8 as class 8</li>\n",
    "    <li>Under sample class 8 </li>\n",
    "    </ul>    \n",
    "    <li> collect metadata: </li>\n",
    "     <ul>\n",
    "     <li> Number of misspelled </li>\n",
    "     <li> Number of unique words </li>\n",
    "     <li> Avg no wordlength </li>\n",
    "     </ul>   \n",
    "    \n",
    "    \n",
    "\n",
    "</ol>"
   ]
  },
  {
   "cell_type": "markdown",
   "metadata": {
    "slideshow": {
     "slide_type": "slide"
    }
   },
   "source": [
    "## Education level summary\n",
    "\n",
    "<ol>\n",
    "  <p></p>\n",
    "    <img src=\"rep2_image/count_diag.JPG\">   \n",
    "\n",
    "</ol>\n",
    " \n",
    "<ol>\n",
    "    <p></p>\n",
    "    <img src=\"rep2_image/count_table.JPG\">   \n",
    "\n",
    "</ol>\n",
    "\n",
    "## Logistic regression after removing minority classes and undersampling\n",
    "<ol>\n",
    "  <p></p>\n",
    "    <img src=\"rep2_image/log1.JPG\">   \n",
    "\n",
    "</ol>\n",
    "\n",
    "## Merge levels: \n",
    "- Merge classs 1, 3 and 5 as class 1\n",
    "- Merge classes 6, 7, 8 as class 8\n",
    "- weight classes while classifying using Logistic regression\n",
    "<ol>\n",
    "  <p></p>\n",
    "    <img src=\"rep2_image/count_table2.JPG\">   \n",
    "\n",
    "</ol>\n",
    "\n",
    "\n",
    "\n",
    "<ol>\n",
    "  <p></p>\n",
    "    ### Logistic regression with undersampling\n",
    "    <img src=\"rep2_image/log_undersampling.JPG\">   \n",
    "\n",
    "</ol>\n",
    "\n",
    "<ol>\n",
    "  <p></p>\n",
    "    ### Logistic regression with weighting\n",
    "    <img src=\"rep2_image/log_weight.JPG\">   \n",
    "\n",
    "</ol>\n",
    "\n",
    "\n"
   ]
  },
  {
   "cell_type": "markdown",
   "metadata": {
    "slideshow": {
     "slide_type": "slide"
    }
   },
   "source": [
    "### Add metadata to the dataset"
   ]
  },
  {
   "cell_type": "code",
   "execution_count": 1,
   "metadata": {},
   "outputs": [],
   "source": [
    "import pandas as pd\n",
    "import matplotlib.pyplot as plt\n",
    "from sklearn.feature_extraction.text import CountVectorizer\n",
    "from sklearn.model_selection import train_test_split\n",
    "from sklearn.naive_bayes import MultinomialNB\n",
    "from sklearn.metrics import accuracy_score\n",
    "from sklearn.multiclass import OneVsRestClassifier\n",
    "from sklearn.metrics import confusion_matrix\n",
    "from sklearn.feature_extraction.text import TfidfVectorizer\n",
    "import seaborn as sns\n",
    "from sklearn.metrics import classification_report\n",
    "from sklearn.preprocessing import StandardScaler\n",
    "from sklearn import preprocessing\n",
    "from sklearn.preprocessing import FunctionTransformer\n",
    "from sklearn.pipeline import Pipeline\n",
    "from sklearn.multiclass import OneVsRestClassifier\n",
    "from sklearn.linear_model import LogisticRegression\n",
    "from sklearn.pipeline import FeatureUnion\n",
    "from collections import Counter\n",
    "from sklearn.naive_bayes import MultinomialNB\n",
    "import numpy as np\n",
    "import itertools\n",
    "import matplotlib.pyplot as plt\n",
    "import matplotlib.cm as cm\n",
    "from sklearn.utils import resample\n"
   ]
  },
  {
   "cell_type": "code",
   "execution_count": 2,
   "metadata": {
    "slideshow": {
     "slide_type": "slide"
    }
   },
   "outputs": [],
   "source": [
    "\n",
    "def plot_confusion_matrix(cm, classes, normalize=False, title='Confusion matrix', cmap=plt.cm.Blues):\n",
    "    \"\"\"\n",
    "    This function prints and plots the confusion matrix.\n",
    "    Normalization can be applied by setting `normalize=True`.\n",
    "    \"\"\"\n",
    "    if normalize:\n",
    "        cm = cm.astype('float') / cm.sum(axis=1)[:, np.newaxis]\n",
    "        print(\"Normalized confusion matrix\")\n",
    "    else:    \n",
    "        print('Confusion matrix, without normalization')\n",
    "         \n",
    "    print(cm)\n",
    "\n",
    "    plt.imshow(cm, interpolation='nearest', cmap=cmap)\n",
    "    plt.title(title)\n",
    "    plt.colorbar()\n",
    "    tick_marks = np.arange(len(classes))\n",
    "    plt.xticks(tick_marks, classes, rotation=45)\n",
    "    plt.yticks(tick_marks, classes)\n",
    "    \n",
    "    fmt = '.2f' if normalize else 'd'\n",
    "    thresh = cm.max() / 2.\n",
    "    for i, j in itertools.product(range(cm.shape[0])\n",
    "                                  , range(cm.shape[1])):\n",
    "            plt.text(j, i, format(cm[i, j], fmt),\n",
    "                 horizontalalignment=\"center\",\n",
    "                 color=\"white\" if cm[i, j] > thresh else \"black\")\n",
    "    plt.tight_layout()\n",
    "    plt.ylabel('True label')\n",
    "    plt.xlabel('Predicted label')\n",
    "    "
   ]
  },
  {
   "cell_type": "code",
   "execution_count": 3,
   "metadata": {
    "slideshow": {
     "slide_type": "slide"
    }
   },
   "outputs": [
    {
     "data": {
      "text/plain": [
       "Index(['age', 'sex', 'text', 'isced', 'isced2', '#anwps', 'clean_text',\n",
       "       'count_char', 'count_punct', 'count_word', 'avg_wordlength',\n",
       "       'count_misspelled', 'word_uniqueness'],\n",
       "      dtype='object')"
      ]
     },
     "execution_count": 3,
     "metadata": {},
     "output_type": "execute_result"
    }
   ],
   "source": [
    "df = pd.read_csv (r'../../../data/processed/stylo_cupid2.csv')\n",
    "df.columns"
   ]
  },
  {
   "cell_type": "code",
   "execution_count": 4,
   "metadata": {
    "slideshow": {
     "slide_type": "skip"
    }
   },
   "outputs": [],
   "source": [
    "# import readability\n",
    "# from tqdm._tqdm_notebook import tqdm_notebook\n",
    "# tqdm_notebook.pandas()\n",
    "\n",
    "# def text_readability(text):\n",
    "#     results = readability.getmeasures(text, lang='en')\n",
    "#     return results['readability grades']['FleschReadingEase']\n",
    "    \n",
    "# df['readability'] = df.progress_apply(lambda x:text_readability(x['text']), axis=1)\n",
    "\n"
   ]
  },
  {
   "cell_type": "code",
   "execution_count": 5,
   "metadata": {
    "slideshow": {
     "slide_type": "slide"
    }
   },
   "outputs": [
    {
     "data": {
      "text/html": [
       "<div>\n",
       "<style scoped>\n",
       "    .dataframe tbody tr th:only-of-type {\n",
       "        vertical-align: middle;\n",
       "    }\n",
       "\n",
       "    .dataframe tbody tr th {\n",
       "        vertical-align: top;\n",
       "    }\n",
       "\n",
       "    .dataframe thead th {\n",
       "        text-align: right;\n",
       "    }\n",
       "</style>\n",
       "<table border=\"1\" class=\"dataframe\">\n",
       "  <thead>\n",
       "    <tr style=\"text-align: right;\">\n",
       "      <th></th>\n",
       "      <th>age</th>\n",
       "      <th>sex</th>\n",
       "      <th>text</th>\n",
       "      <th>isced</th>\n",
       "      <th>isced2</th>\n",
       "      <th>#anwps</th>\n",
       "      <th>clean_text</th>\n",
       "      <th>count_char</th>\n",
       "      <th>count_punct</th>\n",
       "      <th>count_word</th>\n",
       "      <th>avg_wordlength</th>\n",
       "      <th>count_misspelled</th>\n",
       "      <th>word_uniqueness</th>\n",
       "    </tr>\n",
       "  </thead>\n",
       "  <tbody>\n",
       "    <tr>\n",
       "      <th>0</th>\n",
       "      <td>22</td>\n",
       "      <td>m</td>\n",
       "      <td>about me:i would love to think that i was some...</td>\n",
       "      <td>3.0</td>\n",
       "      <td>Upper secondary education</td>\n",
       "      <td>15.000000</td>\n",
       "      <td>mei love think kind intellectualeither dumbest...</td>\n",
       "      <td>1588</td>\n",
       "      <td>59</td>\n",
       "      <td>350</td>\n",
       "      <td>4.54</td>\n",
       "      <td>30</td>\n",
       "      <td>0.63</td>\n",
       "    </tr>\n",
       "    <tr>\n",
       "      <th>1</th>\n",
       "      <td>38</td>\n",
       "      <td>m</td>\n",
       "      <td>i'm not ashamed of much, but writing public te...</td>\n",
       "      <td>7.0</td>\n",
       "      <td>Master or equivalent</td>\n",
       "      <td>18.000000</td>\n",
       "      <td>im ashamed writing public text onlinedating si...</td>\n",
       "      <td>2437</td>\n",
       "      <td>103</td>\n",
       "      <td>455</td>\n",
       "      <td>5.36</td>\n",
       "      <td>51</td>\n",
       "      <td>0.69</td>\n",
       "    </tr>\n",
       "    <tr>\n",
       "      <th>2</th>\n",
       "      <td>23</td>\n",
       "      <td>m</td>\n",
       "      <td>i work in a library and go to school. . . read...</td>\n",
       "      <td>3.0</td>\n",
       "      <td>Upper secondary education</td>\n",
       "      <td>10.750000</td>\n",
       "      <td>work library school reading things written old...</td>\n",
       "      <td>195</td>\n",
       "      <td>4</td>\n",
       "      <td>43</td>\n",
       "      <td>4.53</td>\n",
       "      <td>1</td>\n",
       "      <td>0.90</td>\n",
       "    </tr>\n",
       "    <tr>\n",
       "      <th>3</th>\n",
       "      <td>29</td>\n",
       "      <td>m</td>\n",
       "      <td>hey how's it going? currently vague on the pro...</td>\n",
       "      <td>6.0</td>\n",
       "      <td>Bachelor or equivalent</td>\n",
       "      <td>11.833333</td>\n",
       "      <td>hey hows going currently vague profile know to...</td>\n",
       "      <td>284</td>\n",
       "      <td>23</td>\n",
       "      <td>59</td>\n",
       "      <td>4.81</td>\n",
       "      <td>8</td>\n",
       "      <td>0.84</td>\n",
       "    </tr>\n",
       "    <tr>\n",
       "      <th>4</th>\n",
       "      <td>29</td>\n",
       "      <td>m</td>\n",
       "      <td>i'm an australian living in san francisco, but...</td>\n",
       "      <td>6.0</td>\n",
       "      <td>Bachelor or equivalent</td>\n",
       "      <td>11.840000</td>\n",
       "      <td>im australian living san francisco dont hold t...</td>\n",
       "      <td>1155</td>\n",
       "      <td>58</td>\n",
       "      <td>245</td>\n",
       "      <td>4.71</td>\n",
       "      <td>23</td>\n",
       "      <td>0.68</td>\n",
       "    </tr>\n",
       "  </tbody>\n",
       "</table>\n",
       "</div>"
      ],
      "text/plain": [
       "   age sex                                               text  isced  \\\n",
       "0   22   m  about me:i would love to think that i was some...    3.0   \n",
       "1   38   m  i'm not ashamed of much, but writing public te...    7.0   \n",
       "2   23   m  i work in a library and go to school. . . read...    3.0   \n",
       "3   29   m  hey how's it going? currently vague on the pro...    6.0   \n",
       "4   29   m  i'm an australian living in san francisco, but...    6.0   \n",
       "\n",
       "                      isced2     #anwps  \\\n",
       "0  Upper secondary education  15.000000   \n",
       "1       Master or equivalent  18.000000   \n",
       "2  Upper secondary education  10.750000   \n",
       "3     Bachelor or equivalent  11.833333   \n",
       "4     Bachelor or equivalent  11.840000   \n",
       "\n",
       "                                          clean_text  count_char  count_punct  \\\n",
       "0  mei love think kind intellectualeither dumbest...        1588           59   \n",
       "1  im ashamed writing public text onlinedating si...        2437          103   \n",
       "2  work library school reading things written old...         195            4   \n",
       "3  hey hows going currently vague profile know to...         284           23   \n",
       "4  im australian living san francisco dont hold t...        1155           58   \n",
       "\n",
       "   count_word  avg_wordlength  count_misspelled  word_uniqueness  \n",
       "0         350            4.54                30             0.63  \n",
       "1         455            5.36                51             0.69  \n",
       "2          43            4.53                 1             0.90  \n",
       "3          59            4.81                 8             0.84  \n",
       "4         245            4.71                23             0.68  "
      ]
     },
     "execution_count": 5,
     "metadata": {},
     "output_type": "execute_result"
    }
   ],
   "source": [
    "df.head()"
   ]
  },
  {
   "cell_type": "code",
   "execution_count": 6,
   "metadata": {
    "slideshow": {
     "slide_type": "slide"
    }
   },
   "outputs": [
    {
     "name": "stdout",
     "output_type": "stream",
     "text": [
      "[(1.0, 10985), (8.0, 38958)]\n"
     ]
    }
   ],
   "source": [
    "# Read metadata dataset to dataframe\n",
    "\n",
    "# df = pd.read_csv (r'../../../data/processed/stylo_cupid2.csv')\n",
    "\n",
    "df['sex'].mask(df['sex'].isin(['m']) , 0.0, inplace=True)\n",
    "df['sex'].mask(df['sex'].isin(['f']) , 1.0, inplace=True)\n",
    "# print(df['sex'].value_counts())\n",
    "\n",
    "df['isced'].mask(df['isced'].isin([3.0, 5.0]) , 1.0, inplace=True)\n",
    "df['isced'].mask(df['isced'].isin([6.0, 7.0]) , 8.0, inplace=True)\n",
    "\n",
    "# # Separate majority and minority classes\n",
    "# df_majority = df[df.isced==8.0]\n",
    "# df_minority = df[df.isced==1.0]\n",
    " \n",
    "# # Downsample majority class\n",
    "# df_majority_downsampled = resample(df_majority, \n",
    "#                                  replace=False,    # sample without replacement\n",
    "#                                  n_samples=10985,     # to match minority class\n",
    "#                                  random_state=123) # reproducible results\n",
    " \n",
    "# # Combine minority class with downsampled majority class\n",
    "# df = pd.concat([df_majority_downsampled, df_minority])\n",
    "\n",
    "\n",
    "\n",
    "print(sorted(Counter(df['isced']).items()))\n",
    "df = df.dropna(subset=['clean_text', 'isced'])\n",
    "\n",
    "corpus = df[['clean_text', 'count_char','count_word', '#anwps', 'count_punct', 'avg_wordlength', 'count_misspelled', 'word_uniqueness', 'age', 'sex']]\n",
    "target = df[\"isced\"]\n",
    "\n",
    "# vectorization\n",
    "X_train, X_val, y_train, y_val = train_test_split(corpus, target, train_size=0.75, stratify=target,\n",
    "                                                          test_size=0.25, random_state = 0)\n",
    "\n",
    "\n",
    "get_text_data = FunctionTransformer(lambda x: x['clean_text'], validate=False)\n",
    "get_numeric_data = FunctionTransformer(lambda x: x[['count_char','count_word', '#anwps', 'count_punct', 'avg_wordlength', 'count_misspelled', 'word_uniqueness', 'age', 'sex']], validate=False)\n",
    "\n"
   ]
  },
  {
   "cell_type": "code",
   "execution_count": 7,
   "metadata": {
    "slideshow": {
     "slide_type": "slide"
    }
   },
   "outputs": [
    {
     "name": "stdout",
     "output_type": "stream",
     "text": [
      "Final Accuracy for Logistic: 0.83559009694736\n",
      "Confusion matrix, without normalization\n",
      "[[1558 1187]\n",
      " [ 865 8871]]\n",
      "              precision    recall  f1-score   support\n",
      "\n",
      "         1.0       0.64      0.57      0.60      2745\n",
      "         8.0       0.88      0.91      0.90      9736\n",
      "\n",
      "    accuracy                           0.84     12481\n",
      "   macro avg       0.76      0.74      0.75     12481\n",
      "weighted avg       0.83      0.84      0.83     12481\n",
      "\n"
     ]
    },
    {
     "data": {
      "image/png": "[encoded data removed]",
      "text/plain": [
       "<Figure size 432x288 with 2 Axes>"
      ]
     },
     "metadata": {
      "needs_background": "light"
     },
     "output_type": "display_data"
    }
   ],
   "source": [
    "# Solver = lbfgs\n",
    "# merge vectorized text data and scaled numeric data\n",
    "process_and_join_features = Pipeline([\n",
    "    ('features', FeatureUnion([\n",
    "            ('numeric_features', Pipeline([\n",
    "                ('selector', get_numeric_data),\n",
    "                ('scaler', preprocessing.StandardScaler())\n",
    "                \n",
    "            ])),\n",
    "             ('text_features', Pipeline([\n",
    "                ('selector', get_text_data),\n",
    "                ('vec', CountVectorizer(binary=False, ngram_range=(1, 2), lowercase=True))\n",
    "            ]))\n",
    "         ])),\n",
    "    ('clf', LogisticRegression(random_state=0,max_iter=1000, solver='lbfgs', penalty='l2', class_weight='balanced'))\n",
    "])\n",
    "\n",
    "\n",
    "\n",
    "# merge vectorized text data and scaled numeric data\n",
    "process_and_join_features.fit(X_train, y_train)\n",
    "predictions = process_and_join_features.predict(X_val)\n",
    "\n",
    "\n",
    "print(\"Final Accuracy for Logistic: %s\"% accuracy_score(y_val, predictions))\n",
    "cm = confusion_matrix(y_val,predictions)\n",
    "plt.figure()\n",
    "plot_confusion_matrix(cm, classes=[0,1], normalize=False,\n",
    "                      title='Confusion Matrix')\n",
    "print(classification_report(y_val, predictions))"
   ]
  },
  {
   "cell_type": "code",
   "execution_count": null,
   "metadata": {
    "slideshow": {
     "slide_type": "slide"
    }
   },
   "outputs": [],
   "source": [
    "from sklearn.model_selection import cross_val_predict\n",
    "from sklearn.metrics import confusion_matrix\n",
    "\n",
    "\n",
    "# scores = cross_val_score(process_and_join_features, X_train, y_train, cv=5)\n",
    "# print(scores)\n",
    "# print(scores.mean())\n",
    "\n",
    "process_and_join_features.fit(X_train, y_train)\n",
    "\n",
    "y_pred = cross_val_predict(process_and_join_features, corpus, target, cv=5)\n"
   ]
  },
  {
   "cell_type": "code",
   "execution_count": 45,
   "metadata": {
    "slideshow": {
     "slide_type": "slide"
    }
   },
   "outputs": [
    {
     "name": "stdout",
     "output_type": "stream",
     "text": [
      "[[ 6266  4714]\n",
      " [ 3389 35555]]\n"
     ]
    }
   ],
   "source": [
    "conf_mat = confusion_matrix(target, y_pred)\n",
    "print(conf_mat)"
   ]
  },
  {
   "cell_type": "code",
   "execution_count": 38,
   "metadata": {
    "slideshow": {
     "slide_type": "slide"
    }
   },
   "outputs": [
    {
     "name": "stdout",
     "output_type": "stream",
     "text": [
      "[0.83755633 0.84076114 0.84036054 0.82934402 0.83974359]\n",
      "0.8375531245586328\n"
     ]
    }
   ],
   "source": [
    "from sklearn.model_selection import cross_val_score, cross_val_predict\n",
    "\n",
    "scores = cross_val_score(process_and_join_features, corpus, target, cv=5)\n",
    "print(scores)\n",
    "print(scores.mean())"
   ]
  },
  {
   "cell_type": "code",
   "execution_count": 46,
   "metadata": {},
   "outputs": [
    {
     "name": "stdout",
     "output_type": "stream",
     "text": [
      "[0.83735603 0.84046069 0.84196294 0.82824236 0.84044471]\n",
      "0.8376933489176072\n"
     ]
    }
   ],
   "source": [
    "from sklearn.model_selection import cross_val_score, cross_val_predict\n",
    "\n",
    "scores = cross_val_score(process_and_join_features, corpus, target, cv=5)\n",
    "print(scores)\n",
    "print(scores.mean())"
   ]
  },
  {
   "cell_type": "code",
   "execution_count": 49,
   "metadata": {},
   "outputs": [
    {
     "name": "stdout",
     "output_type": "stream",
     "text": [
      "Final Accuracy for Logistic: 0.8376732633603077\n",
      "Confusion matrix, without normalization\n",
      "[[1593 1122]\n",
      " [ 904 8862]]\n",
      "              precision    recall  f1-score   support\n",
      "\n",
      "         1.0       0.64      0.59      0.61      2715\n",
      "         8.0       0.89      0.91      0.90      9766\n",
      "\n",
      "    accuracy                           0.84     12481\n",
      "   macro avg       0.76      0.75      0.75     12481\n",
      "weighted avg       0.83      0.84      0.84     12481\n",
      "\n"
     ]
    },
    {
     "data": {
      "image/png": "[encoded data removed]",
      "text/plain": [
       "<Figure size 432x288 with 2 Axes>"
      ]
     },
     "metadata": {
      "needs_background": "light"
     },
     "output_type": "display_data"
    }
   ],
   "source": [
    "# merge vectorized text data and scaled numeric data\n",
    "process_and_join_features = Pipeline([\n",
    "    ('features', FeatureUnion([\n",
    "            ('numeric_features', Pipeline([\n",
    "                ('selector', get_numeric_data),\n",
    "                ('scaler', preprocessing.StandardScaler())\n",
    "                \n",
    "            ])),\n",
    "             ('text_features', Pipeline([\n",
    "                ('selector', get_text_data),\n",
    "                ('vec', CountVectorizer(binary=False, ngram_range=(1, 2), lowercase=True))\n",
    "            ]))\n",
    "         ])),\n",
    "    ('clf', LogisticRegression(random_state=0,max_iter=5000, solver='sag', penalty='l2', class_weight='balanced'))\n",
    "])\n",
    "\n",
    "# \n",
    "process_and_join_features.fit(X_train, y_train)\n",
    "predictions = process_and_join_features.predict(X_val)\n",
    "\n",
    "\n",
    "print(\"Final Accuracy for Logistic: %s\"% accuracy_score(y_val, predictions))\n",
    "cm = confusion_matrix(y_val,predictions)\n",
    "plt.figure()\n",
    "plot_confusion_matrix(cm, classes=[0,1], normalize=False,\n",
    "                      title='Confusion Matrix')\n",
    "print(classification_report(y_val, predictions))"
   ]
  },
  {
   "cell_type": "code",
   "execution_count": 14,
   "metadata": {},
   "outputs": [
    {
     "name": "stdout",
     "output_type": "stream",
     "text": [
      "Final Accuracy for Logistic: 0.8353497315920199\n",
      "Confusion matrix, without normalization\n",
      "[[1636 1079]\n",
      " [ 976 8790]]\n",
      "              precision    recall  f1-score   support\n",
      "\n",
      "         1.0       0.63      0.60      0.61      2715\n",
      "         8.0       0.89      0.90      0.90      9766\n",
      "\n",
      "    accuracy                           0.84     12481\n",
      "   macro avg       0.76      0.75      0.75     12481\n",
      "weighted avg       0.83      0.84      0.83     12481\n",
      "\n"
     ]
    },
    {
     "data": {
      "image/png": "[encoded data removed]",
      "text/plain": [
       "<Figure size 432x288 with 2 Axes>"
      ]
     },
     "metadata": {
      "needs_background": "light"
     },
     "output_type": "display_data"
    }
   ],
   "source": [
    "# merge vectorized text data and scaled numeric data\n",
    "process_and_join_features = Pipeline([\n",
    "    ('features', FeatureUnion([\n",
    "            ('numeric_features', Pipeline([\n",
    "                ('selector', get_numeric_data),\n",
    "                ('scaler', preprocessing.StandardScaler())\n",
    "                \n",
    "            ])),\n",
    "             ('text_features', Pipeline([\n",
    "                ('selector', get_text_data),\n",
    "                ('vec', CountVectorizer(binary=False, ngram_range=(1, 2), lowercase=True))\n",
    "            ]))\n",
    "         ])),\n",
    "    ('clf', LogisticRegression(n_jobs=-1, random_state=0,max_iter=3000, solver='saga', penalty='l2', class_weight='balanced'))\n",
    "])\n",
    "\n",
    "# \n",
    "process_and_join_features.fit(X_train, y_train)\n",
    "predictions = process_and_join_features.predict(X_val)\n",
    "\n",
    "\n",
    "print(\"Final Accuracy for Logistic: %s\"% accuracy_score(y_val, predictions))\n",
    "cm = confusion_matrix(y_val,predictions)\n",
    "plt.figure()\n",
    "plot_confusion_matrix(cm, classes=[0,1], normalize=False,\n",
    "                      title='Confusion Matrix')\n",
    "print(classification_report(y_val, predictions))"
   ]
  }
 ],
 "metadata": {
  "hide_input": false,
  "kernelspec": {
   "display_name": "Python 3",
   "language": "python",
   "name": "python3"
  },
  "language_info": {
   "codemirror_mode": {
    "name": "ipython",
    "version": 3
   },
   "file_extension": ".py",
   "mimetype": "text/x-python",
   "name": "python",
   "nbconvert_exporter": "python",
   "pygments_lexer": "ipython3",
   "version": "3.7.3"
  }
 },
 "nbformat": 4,
 "nbformat_minor": 2
}
